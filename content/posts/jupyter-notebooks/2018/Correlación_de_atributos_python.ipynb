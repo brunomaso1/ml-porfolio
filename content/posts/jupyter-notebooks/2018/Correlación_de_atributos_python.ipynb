{
 "cells": [
  {
   "cell_type": "markdown",
   "metadata": {},
   "source": [
    "## Tabla de contenido:\n",
    "1. [Introducción](#1-bullet)\n",
    "    1. [Que es la correlación de atributos](#1.1-bullet)\n",
    "    2. [Covarianza](#1.2-bullet)\n",
    "    3. [Tipos de correlación](#1.3-bullet)\n",
    "        1. [Coeficiente de correlación de Pearson](#1.3.1-bullet)"
   ]
  },
  {
   "cell_type": "markdown",
   "metadata": {},
   "source": [
    "## Introducción <a class=\"anchor\" id=\"1-bullet\"></a>"
   ]
  },
  {
   "cell_type": "markdown",
   "metadata": {},
   "source": [
    "### Que es la correlación de atributos <a class=\"anchor\" id=\"1.1-bullet\"></a>\n",
    "\n",
    "> En probabilidad y estadística, la correlación indica la fuerza y la dirección de una relación lineal y proporcionalidad entre dos variables estadísticas. Se considera que dos variables cuantitativas están correlacionadas cuando los valores de una de ellas varían sistemáticamente con respecto a los valores homónimos de la otra: si tenemos dos variables (A y B) existe correlación entre ellas si al disminuir los valores de A lo hacen también los de B y viceversa. La correlación entre dos variables no implica, por sí misma, ninguna relación de causalidad. (Wikipedia español)\n",
    "\n",
    "La correlación es uno de los conceptos estadísticos más utilizados.\n",
    "\n",
    "El término *correlación*, refiere a la relación que existen entre cantidades. Más específicamente refiere a la distribución de dichas cantidades. Por ejemplo, en el ejemplo del Titanic ({filename}/posts/ipython/Titanic_dataset_analisis), el atributo \"Life Boat\" está correlacionado con la variable de salida, por el motivo de que si algún pasajero tiene el atributo \"Life Boat\" no vacío, es muy posible que se haya salvado, lo que implica que el atributo \"Survived\" (variable dependiente) se encuentra en \"Si\". Ambos atributos siguen la misma distribución, y según los datos que tenemos del negocio, sabemos que están muy correlacionados.\n",
    "\n",
    "¿Por qué la correlación es importante?\n",
    "Por varios motivos:\n",
    "* La correlación entre atributos permite predecir el valor de uno a partir del otro.\n",
    "* La correlación puede (aunque usualmente no pasa) indicar la presencia de relaciones causales (como en el caso del Titanic).\n",
    "* La correlación se utiliza como base para algunos modelos."
   ]
  },
  {
   "cell_type": "markdown",
   "metadata": {},
   "source": [
    "### Covarianza <a class=\"anchor\" id=\"1.2-bullet\"></a>\n",
    "\n",
    "La covarianza es una medida estadística de asociación entre dos variables $X$ e $Y$. Se calcula como:\n",
    "\n",
    "$\\sigma_{xy}=\\dfrac{ \\sum f_i (x_i - \\bar x)(y_i - \\bar y)}{N}$\n",
    "\n",
    "O, arreglando los factores:\n",
    "\n",
    "$\\sigma_{xy}=\\dfrac{ \\sum f_i x_i y_i}{N} - \\bar x \\bar y$\n",
    "\n",
    "Donde la covarianza indica el sentido de la correlación entre las variables:\n",
    "* Si $\\sigma_{xy} > 0$ la correlación es directa.\n",
    "* Si $\\sigma_{xy} < 0$ la correlación es inversa.\n",
    "\n",
    "La covarianza presenta como inconveniente el hecho de que su valor depende de la escala elegida. Por ejemplo, la $\\sigma_{xy}=1.2$ y la $\\sigma_{tz}=3.4$ nos dicen que los pares están positivamente asociados, pero no nos dice si la relación de $X$ con $Y$ es mayor a la de $T$ con $Z$.\n",
    "\n",
    "Por este motivo la covarianza es útil cuando todos los atributos siguen en la misma escala, ya que en ese punto podemos comparar cual \"covarianza\" es más fuerte que otra."
   ]
  },
  {
   "cell_type": "markdown",
   "metadata": {},
   "source": [
    "### Tipos de correlación <a class=\"anchor\" id=\"1.3-bullet\"></a>"
   ]
  },
  {
   "cell_type": "markdown",
   "metadata": {},
   "source": [
    "#### Coeficiente de correlación de Pearson <a class=\"anchor\" id=\"1.3.1-bullet\"></a>\n",
    "\n",
    "El coeficiente de correlación de Pearson es el más utilizado. Esta correlación mide la asociación linear entre variables continuas. En otras palabras, este coeficiente cuantifica el grado en el cual una relación entre dos variables puede ser expresada como una línea.\n",
    "\n",
    "El coeficiente de Pearson se refiere como $\\rho$.\n",
    "\n",
    "La fórmula original para la correlación utiliza los datos planos (\"raw\") y las medias de las dos variables, $X$ e $Y$:\n",
    "\n",
    "$\\rho_{X,Y}=\\dfrac{\\sum (X_i - \\bar X)(Y_i - \\bar Y)}{\\sqrt{\\sum (X_i - \\bar X)^2 \\sum (Y_i - \\bar Y)^2}}$\n",
    "\n",
    "En esta fórmula, las instancias son centradas restando la media y re-escaladas utilizando las desviaciones estándar.\n",
    "\n",
    "Al dividir la covarianza de dos variables entre el producto de sus derivaciones estándar, asegura que la correlación siempre esté en el intervalo $[-1, 1]$\n",
    "\n",
    "Cuanto más cerca de 1 esté $\\rho$, más relacionadas positivamente se encuentran las variables (cuanto más se incrementa una más se incrementa la otra). Por otro lado, cuanto más cerca de -1 esté, indica una relación inversamente proporcional (cuanto más se incremente una, más se decrementa la otra). Si $X$ e $Y$ son independientes, $\\rho$ tiende a 0.\n",
    "\n",
    "<div style=\"text-align:center\"><img src=\"{filename}/posts/post-img/Correlacion_de_atributos_1.PNG\" alt=\"drawing\" width=\"40%\" height=\"40%\"/></div>\n",
    "\n",
    "Podemos notar también que la tangente de la recta de regresión lineal tiene una relación con el coeficiente de Pearson, dicha relación sigue que:\n",
    "\n",
    "$\\rho=m \\dfrac{S_x}{S_y}$\n",
    "\n",
    "Donde $m$ es la tangente de la recta de regresión.\n",
    "\n",
    "En otras palabras, la correlación refleja la asociación y la cantidad de variabilidad entre las dos variables.\n",
    "\n",
    "Cabe destacar que la correlación no es igual a la tangente (es una medida estandarizada de la variabilidad de los datos). Por ejemplo, es posible tener un valor muy bajo para la tangente y sin embargo tener una correlación muy alta.\n",
    "\n",
    "<div style=\"text-align:center\"><img src=\"{filename}/posts/post-img/Correlacion_de_atributos_2.PNG\" alt=\"drawing\" width=\"40%\" height=\"40%\"/></div>\n",
    "\n",
    "No hace falta agregar, que la correlación es altamente susceptiva a los valores anómalos.\n",
    "\n",
    "Otra forma de interpretar la correlación de Pearson, es utilizar el coeficiente de determinación $R^2$. Mientras $\\rho$ no tienen unidad, el cuadrado de $\\rho$ es interpretado como la proporción que varía la variable $Y$ explicada por la $X$. Ej: \n",
    "\n",
    "$\\rho = -0.5 \\rightarrow (-0.5)^2 * 100 = 42\\%$\n",
    "\n",
    "O sea, 42% de variación de $Y$ puede ser explicada por $X$."
   ]
  },
  {
   "cell_type": "code",
   "execution_count": null,
   "metadata": {},
   "outputs": [],
   "source": []
  }
 ],
 "metadata": {
  "kernelspec": {
   "display_name": "Python 3",
   "language": "python",
   "name": "python3"
  },
  "language_info": {
   "codemirror_mode": {
    "name": "ipython",
    "version": 3
   },
   "file_extension": ".py",
   "mimetype": "text/x-python",
   "name": "python",
   "nbconvert_exporter": "python",
   "pygments_lexer": "ipython3",
   "version": "3.6.6"
  }
 },
 "nbformat": 4,
 "nbformat_minor": 2
}
