{
 "cells": [
  {
   "cell_type": "markdown",
   "metadata": {},
   "source": [
    "<br />\n",
    "<div id=\"toc_container\">\n",
    "<p class=\"toc_title\">Tabla de contenido</p>\n",
    "<ul class=\"toc_list\">\n",
    "\t<li><a href=\"#1-bullet\">1. Entendimiento del negocio</a>\n",
    "        <ul>\n",
    "            <li><a href=\"#1.1-bullet\">1.1. Contexto</a></li>\n",
    "            <li><a href=\"#1.2-bullet\">1.2. DataSet</a></li>\n",
    "            <li><a href=\"#1.3-bullet\">1.3. Objetivo</a></li>\n",
    "        </ul>\n",
    "    </li>\n",
    "    <li><a href=\"#2-bullet\">2. Entendimiento de los datos</a>\n",
    "        <ul>\n",
    "            <li><a href=\"#2.1-bullet\">2.1. Atributos</a></li>\n",
    "            <li><a href=\"#2.2-bullet\">2.2. Análisis de los atributos</a>\n",
    "                <ul>\n",
    "                    <li><a href=\"#2.2.1-bullet\">2.2.1. Importancia</a></li>\n",
    "                </ul>\n",
    "            </li>\n",
    "        </ul>\n",
    "    </li>\n",
    "\t<li><a href=\"#3-bullet\">3. Preparación de los datos</a>\n",
    "        <ul>\n",
    "            <li><a href=\"#3.1-bullet\">3.1. Importación de librerías</a></li>\n",
    "            <li><a href=\"#3.2-bullet\">3.2. Importación de los datos</a></li>\n",
    "            <li><a href=\"#3.3-bullet\">3.3. Visualización de los datos</a>\n",
    "                <ul>\n",
    "                    <li><a href=\"#3.3.1-bullet\">3.3.1. Pre-tratamiento y visualización de los datos</a></li>\n",
    "                    <li><a href=\"#3.3.2-bullet\">3.3.2. Pandas-profiling</a></li>\n",
    "                </ul>\n",
    "            </li>\n",
    "            <li><a href=\"#3.4-bullet\">3.4. Tratamiento de los datos</a>\n",
    "                <ul>\n",
    "                    <li><a href=\"#3.4.1-bullet\">3.4.1. Sanitizar los datos</a></li>\n",
    "                    <li><a href=\"#3.4.3-bullet\">3.4.2. Tratamiento de datos faltantes</a></li>\n",
    "                    <li><a href=\"#3.4.2-bullet\">3.4.3. Tratamiento de outliers</a></li>\n",
    "                    <li><a href=\"#3.4.4-bullet\">3.4.4. Correlación de atributos</a></li>\n",
    "                    <li><a href=\"#3.4.5-bullet\">3.4.5. Feature extraction</a></li>\n",
    "                    <li><a href=\"#3.4.6-bullet\">3.4.6. Transformaciones de los datos</a></li>\n",
    "                    <li><a href=\"#3.4.7-bullet\">3.4.7. Dimension reduction</a></li>                    \n",
    "                </ul>\n",
    "            </li>\n",
    "        </ul>\n",
    "    </li>\n",
    "\t<li><a href=\"#4-bullet\">4. Modelado</a>\n",
    "        <ul>\n",
    "            <li><a href=\"#4.1-bullet\">4.1. Preparación del modelado</a></li>\n",
    "            <li><a href=\"#4.2-bullet\">4.2. Entrenamiento de los modelos</a>\n",
    "                <ul>\n",
    "                    <li><a href=\"#4.2.1-bullet\">4.2.1. Linear Regression</a></li>\n",
    "                    <li><a href=\"#4.2.1-bullet\">4.2.2. Linear Regression, L1 Regularization</a></li>\n",
    "                </ul>\n",
    "            </li>\n",
    "            <li><a href=\"#4.3-bullet\">4.3. Comparación de modelos</a></li>\n",
    "            <li><a href=\"#4.4-bullet\">4.4. Feature selection</a></li>\n",
    "            <li><a href=\"#4.5-bullet\">4.5. Optimización</a></li>\n",
    "        </ul>\n",
    "    </li>\n",
    "    <li><a href=\"#5-bullet\">5. Evaluación</a></li>\n",
    "    <li><a href=\"#6-bullet\">6. Puesta en producción</a></li>\n",
    "</ul>\n",
    "</div>"
   ]
  },
  {
   "cell_type": "markdown",
   "metadata": {},
   "source": [
    "## 1. Entendimiento del negocio <a class=\"anchor\" id=\"1-bullet\"></a>\n",
    "---\n",
    "\n",
    "</center><small><a href=\"link\">https://catalogodatos.gub.uy/dataset/penal-montevideo-2016</a></small></center>\n",
    "\n",
    "<div style=\"text-align:center\"><img src=\"https://i.ytimg.com/vi/-zZcIeyHdto/hqdefault.jpg\" alt=\"drawing\" width=\"50%\" height=\"50%\"/></div><br/>\n",
    "\n",
    "Uruguay está en un clima político complicado. Con las elecciones del 2019 en la puerta, surge un tema que la opocición enfoca mucho sus armas para plantearle lucha al gobierno de turno. El tema de la **SEGURIDAD**. \n",
    "\n",
    "Este año se batió un nuevo record en Uruguay. Uno que no brinda orgullo: [Record de homicidios en cuatro meses](https://www.elpais.com.uy/informacion/policiales/record-homicidios-muertes-cuatro-meses.html). El tema es que no solamente batimos el record en homicidios, sino que también han aumentado las [rapiñas](https://www.elobservador.com.uy/nota/homicidios-aumentaron-66-4-y-rapinas-un-55-8-en-el-primer-semestre-de-2018-20188218280). Es más, el gobierno ya reconoce el [problema](https://www.elobservador.com.uy/nota/se-revelo-la-cifra-que-tanto-preocupa-a-bonomi-4-800-rapinas-mas-en-lo-que-va-de-2018-20186291360) y muchos sabemos que esto no es porque se realizan más denuncias gracias a la tecnología disponible.\n",
    "\n",
    "\n",
    "<div style=\"text-align:center\"><img src=\"{filename}/posts/post-img/Voy_preso_o_no_analisis_dataset_penal2016_python_1.jpg\" alt=\"drawing\" width=\"100%\" height=\"100%\"/></div><br/>\n",
    "\n",
    "¿Pero cual es el problema de fondo? ¿Es un tema económico o cultural?"
   ]
  },
  {
   "cell_type": "markdown",
   "metadata": {},
   "source": [
    "### 1.1. Contexto <a class=\"anchor\" id=\"1.1-bullet\"></a>\n",
    "\n",
    "El problema (o enfoque de algunos uruguayos) es que las leyes no son realmente fuertes con respecto a los crímenes. Cuando digo leyes, me refiero a las condenas por dichos crímenes. ¿Pero realmente es así?\n",
    "\n",
    "Uruguay tiene un [record histórico en presos](https://www.elpais.com.uy/informacion/uruguay-record-historico-presos.html). O sea, los crímenes están siendo identificados y los criminales están llendo presos. El tema no está ahí.\n",
    "\n",
    "¿Estará el tema en lo leve que son las leyes? Esto es lo que se analiza en este post a partir de los datos de los penales del año 2016.\n",
    "\n",
    "<div style=\"text-align:center\"><img src=\"Voy_preso_o_no_analisis_dataset_penal2016_python_2.gif\" alt=\"drawing\" width=\"100%\" height=\"100%\"/></div><br/"
   ]
  },
  {
   "cell_type": "markdown",
   "metadata": {},
   "source": [
    "### 1.2. DataSet <a class=\"anchor\" id=\"1.2-bullet\"></a>\n",
    "\n",
    "El conjunto se puede obtener del siguiente link: [Datos](https://catalogodatos.gub.uy/dataset/72a5f9be-591d-415d-9428-970336f5e50d/resource/7ae84c9c-d04e-4e16-ba94-5e90da5cdf5e/download/basepenal2016.csv)\n",
    "\n",
    "El dataset contiene información sobre procesos concluidos (por persona) en los Juzgados Letrados en lo Penal de Montevideo en el año 2016.\n",
    "\n",
    "Este dataset pertenece al gobierno uruguayo y en conjunto con AGESIC (Agencia de Gobierno electrónico y Sociedad de la Información y del Conocimiento) lo han publicado en su página de datos abiertos."
   ]
  },
  {
   "cell_type": "markdown",
   "metadata": {},
   "source": [
    "### 1.3. Objetivo <a class=\"anchor\" id=\"1.3-bullet\"></a>\n",
    "\n",
    "En este post tendremos varios objetivos:\n",
    "\n",
    "- Analizar el conjunto para ver las relaciones entre las variables y poder obtener alguna conclusión del comportamiento de las mismas.\n",
    "- Realizar un modelo de predicción que permita, dado un nuevo crimen, predecir si se irá preso o no."
   ]
  },
  {
   "cell_type": "markdown",
   "metadata": {},
   "source": [
    "## 2. Entendimiento de los datos <a class=\"anchor\" id=\"2-bullet\"></a>\n",
    "---\n",
    "\n",
    "Antes de comenzar con el análisis y modelado de la solución del problema, debemos entender que explican los atributos.\n",
    "En este punto se comprenden los atributos y se analiza su importancia para el problema y la solución."
   ]
  },
  {
   "cell_type": "markdown",
   "metadata": {},
   "source": [
    "### 2.1. Atributos <a class=\"anchor\" id=\"2.1-bullet\"></a>\n",
    "\n",
    "Según los [metadatos](https://catalogodatos.gub.uy/dataset/72a5f9be-591d-415d-9428-970336f5e50d/resource/25af959a-6a27-41c1-a762-6fbba24866a4/download/metadatapenal2016.json) del dataset, el conjunto cuenta con 29 atributos, incluyendo la variable objetivo.\n",
    "\n",
    "Los atributos y su descripción son:\n",
    "\n",
    "- ```id```: Identificación única del expediente. No se repite (Integer) $\\rightarrow$ *Tipo:* <span style=\"color:orange\">**NUMERIC** (\"-1: Sin datos\")</span>\n",
    "- ```turno```: Es la identificación del Turno del Juzgado Letrado de Penal (Integer) $\\rightarrow$ *Tipo:* <span style=\"color:orange\">**NUMERIC** (\"-1: Sin datos\")</span>\n",
    "- ```fecha```: Fecha de iniciado. Corresponde a la fecha del auto de procesamiento (Date) $\\rightarrow$ *Tipo:* <span style=\"color:orange\">**POLINOMIAL** (\"01/01/1900: Sin dato\"; \"08/11/2016\"; \"05/08/2016\"; ...)</span>\n",
    "- ```tipo_proc```: Tipo de procesamiento (Integer) $\\rightarrow$ *Tipo:* <span style=\"color:orange\">**POLINOMIAL** (\"-1: Sin datos\"; \"1: Con prisión\"; \"2: Sin prisión\"; \"3: No corresponde\")</span>\n",
    "- ```fsd```: Fecha de subida al despacho. Es la fecha en la que el expediente sube al despacho del juez para dictar la sentencia definitiva o interlocutoria que finaliza el proceso (Date) $\\rightarrow$ *Tipo:* <span style=\"color:orange\">**POLINOMIAL** (\"01/01/1900: Sin dato\"; \"08/11/2016\"; \"05/08/2016\"; ...)</span>\n",
    "- ```fecha_sent```: Fecha de la Sentencia. Es la fecha en la que el juez dictó la sentencia definitiva o interlocutoria que finalizó el proceso (Date) $\\rightarrow$ *Tipo:* <span style=\"color:orange\">**POLINOMIAL** (\"01/01/1900: Sin dato\"; \"08/11/2016\"; \"05/08/2016\"; ...)</span>\n",
    "- ```num_sent```: Número de la Sentencia. Es el número de la Sentencia Definitiva o Interlocutoria que da por concluído el proceso (Integer) $\\rightarrow$ *Tipo:* <span style=\"color:orange\">**NUMERIC** (\"-1: Sin datos\")</span>\n",
    "- ```modo```: Modo de conclusión (Integer) $\\rightarrow$ *Tipo:* <span style=\"color:orange\">**POLINOMIAL** (\"-1: Sin datos\"; \"1: Sentencia Definitiva\"; \"2: Sentencia Interlocutoria - Amnistía\", \"3: Sentencia Interlocutoria - Clausura definitiva\"; \"4: Sentencia Interlocutoria - Gracia\"; \"5: Sentencia Interlocutoria - Prescripción de la pena\"; \"6: Sentencia Interlocutoria - Prescripción del delito\"; \"7: Sentencia Interlocutoria - Revocación del auto de procesamiento\"; \"8: Sentencia Interlocutoria - Sobreseimiento\"; \"9: Sentencia Interlocutoria - Fallecimiento antes de la condena\"; \"10: Sentencia Interlocutoria - Art. 59, Ley 14412\"; \"11: Sentencia Interlocutoria - Remisión\")</span>\n",
    "- ```sexo```: Sexo del encausado (String) $\\rightarrow$ *Tipo:* <span style=\"color:orange\">**BINOMIAL** (\"-1: Sin dato\"; \"M\"; \"F\")</span>\n",
    "- ```edad```: Edad del encausado (Integer) $\\rightarrow$ *Tipo:* <span style=\"color:orange\">**NUMERIC** (\"-1: Sin datos\")</span>\n",
    "- ```ant```: Antecedentes judiciales (Integer) $\\rightarrow$ *Tipo:* <span style=\"color:orange\">**POLINOMIAL** (\"-1: Sin datos\"; \"1: Primario\"; \"2: Reincidente\"; \"3: No corresponde\")</span>\n",
    "- ```sit_esp```: Situación especial (Integer) $\\rightarrow$ *Tipo:* <span style=\"color:orange\">**POLINOMIAL** (\"-1: Sin datos\"; \"1: Cúmulo o unificación de sentencias\"; \"2: Ley de prensa u otros procesos por audiencia\"; \"3: Extradición (se refiere al expediente que tramita la extradición de un sujeto y no al exhorto o solicitud administrativa de extradición)\"; \"4: Autor ininputable mayor de edad\", \"5: Acción de amparo\"; \"6: No corresponde (cuando no corresponde a ninguno de los casos que fueron codificados anteriormente)\")</span>\n",
    "- ```tipo_del```: Tipo de delito (Integer) $\\rightarrow$ *Tipo:* <span style=\"color:orange\">**POLINOMIAL** (\"-1: Sin dato\"; \"1: Hurto\"; \"2: Rapiña\"; \"3: Delitos previstos en la Ley de estupefacientes\", \"4: Receptación\"; \"5: Lesiones personales\"; \"6: Homicidio\", \"7: Homicidio culpable\"; \"8: Lesiones graves\"; \"9: Estafa\"; \"10: Violencia privada\"; \"11: Apropiación indebida\"; \"12: Atentado violento al pudor\"; \"13: Desacato\"; \"14: Atentado\"; \"15: Ley de cheques\"; \"16: Falsificación o alteración de certificados\"; \"17: Violencia domóstica\"; \"18: Uso de documento falso público o privado\"; \"19: Otros\"; \"20: No corresponde\")</span>\n",
    "- ```tipo_del2```: Tipo de delito (Integer) $\\rightarrow$ *Tipo:* <span style=\"color:orange\">**POLINOMIAL** (\"-1: Sin dato\"; \"1: Hurto\"; \"2: Rapiña\"; \"3: Delitos previstos en la Ley de estupefacientes\", \"4: Receptación\"; \"5: Lesiones personales\"; \"6: Homicidio\", \"7: Homicidio culpable\"; \"8: Lesiones graves\"; \"9: Estafa\"; \"10: Violencia privada\"; \"11: Apropiación indebida\"; \"12: Atentado violento al pudor\"; \"13: Desacato\"; \"14: Atentado\"; \"15: Ley de cheques\"; \"16: Falsificación o alteración de certificados\"; \"17: Violencia domóstica\"; \"18: Uso de documento falso público o privado\"; \"19: Otros\"; \"20: No corresponde\")</span>\n",
    "- ```tipo_del3```: Tipo de delito (Integer) $\\rightarrow$ *Tipo:* <span style=\"color:orange\">**POLINOMIAL** (\"-1: Sin dato\"; \"1: Hurto\"; \"2: Rapiña\"; \"3: Delitos previstos en la Ley de estupefacientes\", \"4: Receptación\"; \"5: Lesiones personales\"; \"6: Homicidio\", \"7: Homicidio culpable\"; \"8: Lesiones graves\"; \"9: Estafa\"; \"10: Violencia privada\"; \"11: Apropiación indebida\"; \"12: Atentado violento al pudor\"; \"13: Desacato\"; \"14: Atentado\"; \"15: Ley de cheques\"; \"16: Falsificación o alteración de certificados\"; \"17: Violencia domóstica\"; \"18: Uso de documento falso público o privado\"; \"19: Otros\"; \"20: No corresponde\")</span>\n",
    "- ```otros_del```: Otro tipo de delito cometido (String) $\\rightarrow$ *Tipo:* <span style=\"color:orange\">**POLINOMIAL** (\"Sin dato\"; \"Texto\")</span>\n",
    "- ```otros2```: Otro tipo de delito cometido (String) $\\rightarrow$ *Tipo:* <span style=\"color:orange\">**POLINOMIAL** (\"Sin dato\"; \"Texto\")</span>\n",
    "- ```otros_del3```: Otro tipo de delito cometido (String) $\\rightarrow$ *Tipo:* <span style=\"color:orange\">**POLINOMIAL** (\"Sin dato\"; \"Texto\")</span>\n",
    "- ```Tent```: Tentativa (Integer) $\\rightarrow$ *Tipo:* <span style=\"color:orange\">**BINOMINAL** (\"-1: Sin dato\"; \"0: No\"; \"1: Si\")</span>\n",
    "- ```Tent_2```: Tentativa (Integer) $\\rightarrow$ *Tipo:* <span style=\"color:orange\">**BINOMINAL** (\"-1: Sin dato\"; \"0: No\"; \"1: Si\")</span>\n",
    "- ```Tent_3```: Tentativa (Integer) $\\rightarrow$ *Tipo:* <span style=\"color:orange\">**BINOMINAL** (\"-1: Sin dato\"; \"0: No\"; \"1: Si\")</span>\n",
    "- ```agrav```: Circunstancias agravantes (Integer) $\\rightarrow$ *Tipo:* <span style=\"color:orange\">**POLINOMIAL** (\"-1: Sin dato\"; \"1: Agravado\"; \"2: Especialmente agravado\"; \"3: Muy especialmente agravado\")</span>\n",
    "- ```agrav2```: Circunstancias agravantes (Integer) $\\rightarrow$ *Tipo:* <span style=\"color:orange\">**POLINOMIAL** (\"-1: Sin dato\"; \"1: Agravado\"; \"2: Especialmente agravado\"; \"3: Muy especialmente agravado\")</span>\n",
    "- ```agrav3```: Circunstancias agravantes (Integer) $\\rightarrow$ *Tipo:* <span style=\"color:orange\">**POLINOMIAL** (\"-1: Sin dato\"; \"1: Agravado\"; \"2: Especialmente agravado\"; \"3: Muy especialmente agravado\")</span>\n",
    "- ```multa```: Multa (Integer) $\\rightarrow$ *Tipo:* <span style=\"color:orange\">**NUMERIC** (\"Sin dato\"; \"Monto\")</span>\n",
    "- ```monto_a```: Sentencia en años (Integer) $\\rightarrow$ *Tipo:* <span style=\"color:orange\">**POLINOMIAL** (\"-1: Sin dato\"; \"Cantidad de años\")</span>\n",
    "- ```monto_m```: Sentencia en meses (Integer) $\\rightarrow$ *Tipo:* <span style=\"color:orange\">**POLINOMIAL** (\"-1: Sin dato\"; \"Cantidad de meses\")</span>\n",
    "- ```monto_d```: Sentencia en dias (Integer) $\\rightarrow$ *Tipo:* <span style=\"color:orange\">**POLINOMIAL** (\"-1: Sin dato\"; \"Cantidad de dias\")</span>\n",
    "- ```inf_adicional```: Información adicional (String) $\\rightarrow$ *Tipo:* <span style=\"color:orange\">**POLINOMIAL** (\"Sin dato\"; \"Texto\")</span>"
   ]
  },
  {
   "cell_type": "markdown",
   "metadata": {},
   "source": [
    "### 2.2. Análisis de los atributos <a class=\"anchor\" id=\"2.2-bullet\"></a>\n",
    "\n",
    "En esta sección se hace un análisis previo de los atributos.\n",
    "\n",
    "Primeramente, podemos ver que tenemos varios atributos que son fechas. Hay fechas que no son importantes, pero si nos ponemos estrictos podemos encontrar alguna relación que hagan estas fechas importantes. Por ejemplo, el atributo *fsd*, que indica la fecha de subida al despacho, en un principio no parece importante, pero si indagamos un poco más, esta fecha podría darnos un indicador de quien fue el juez que resolvió dicha sentencia (el que estaba en el despacho en dicha fecha). El juez que resolvió la sentencia si es importante, por lo tanto esta fecha pasaría a ser importante también. Una forma de utilizara sería eliminar el año, y quedarnos con el día y el mes. Luego, incluirla en el modelo y ver como se clasifican las tuplas según estas fechas. Con un árbol de decisión podríamos obtener este análisis o también ver la correlación de esta fecha con la variable objetivo.\n",
    "\n",
    "En este caso iremos a tanta granularidad y no le prestaremos atención a las fechas para así reducir la complejidad del modelo.\n",
    "\n",
    "Otro punto interesante son los atributos *tipo_del*, *tipo_del2* y *tipo_del3*. *tipo_del2* y *tipo_del3* son del mismo tipo que *tipo_del*. Tal vez haya una relación de dependencia condicional entre estos atributos. Habría que ver que tan importantes son para el problema *tipo_del2* y *tipo_del3*. Pasa lo mismo con los atributos *otros_del*, *otros2*, *otros_del3*; *tent*, *tent_2*, *tent_3* y *agrav*, *agrav2* y *agrav3*.\n",
    "\n",
    "Los atributos *monto_a*, *monto_m* y *monto_d* son el mismo atributo. Es la cantidad de dias que se sentenció. Estos atributos se pueden transformar a uno que sea solamente días. Un tema importante, para el objetivo actual no estamos intentando predecir cuanto tiempo de prisión sería la sentencia, sino simplemente si se iría a prisión o no. Este atributo está altamente relacionado con la variable objetivo (*tipo_proc*), ya que sabemos que si la sentencia fue prisión este atributo es mayor a 0, y si no, este atributo es 0. Por lo que hay una dependencia condicional entre los atributos. En el caso de que se quisiera predecir este tipo de atributos, se podría realizar un modelo de regresión sobre los casos donde la sentencia fue prisión.\n",
    "\n",
    "Otro tema importante es el atributo *turno*. Este atributo indica la ubicación de donde se dictó la sentencia. Habría que ver si tiene alguna relación con las fechas. Este atributo es un buen predictor ya que nos da datos sobre quien realizó la sentencia si en algun momento podemos cruzar los datos con el juez que estaba en dicha fecha en dicho turno.\n",
    "\n",
    "El atributo *modo* indica como terminó la sentencia. En este caso no nos interesa saber como terminó la sentencia, simplemente cual es la sentencia. Este atributo está altamente correlacionado con la variable objetivo. En el caso de que nos interese el modo de la sentencia, una solución sería unir la variable objetivo con este atributo, lo cual nos genera más clases pero con más granularidad.\n",
    "\n",
    "Para finalizar, el atributo *multa* es el mismo caso que el atributo *modo*. Si en algún momento se quisiera saber el monto de la multa, el problema cambia a uno de regresión donde la variable objetivo es el atributo *multa*.\n",
    "\n",
    "Nota: Desde el punto de vista del modelado, el objetivo es predecir si se va a prisión o no. La variable objetivo tiene tres categorías (\"1: Con prisión\"; \"2: Sin prisión\"; \"3: No corresponde\"). Para que el problema sea de clasificación binaria, hay que resolver que se debe realizar con los datos en donde el atributo tiene el valor de \"No corresponde\" y a que se refiere este valor (o sea, ¿no corresponde el procesamiento por lo tanto no se va a prisión?)."
   ]
  },
  {
   "cell_type": "markdown",
   "metadata": {},
   "source": [
    "#### 2.2.1. Importancia <a class=\"anchor\" id=\"2.2.1-bullet\"></a>\n",
    "\n",
    "La importancia de los atributos con respecto al contexto es muy importante, ya que atributos que no tienen importancia dado el contexto, pueden afectar la predicción final.\n",
    "\n",
    "- ```id``` $\\Rightarrow$ El id del expediente lo tratamos como identificador, por lo que para el entrenamiento no es importante. <span style=\"color:blue\">IDENTIFICADOR</span>\n",
    "- ```turno``` $\\Rightarrow$ Es importante según el contexto. <span style=\"color:green\">IMPORTANTE</span>\n",
    "- ```fecha``` $\\Rightarrow$ En este caso, no tomaremos la fecha como un dato importante. <span style=\"color:red\">NO IMPORTANTE</span>\n",
    "- ```tipo_proc``` $\\Rightarrow$ Es la variable objetivo a predecir en este problema. <span style=\"color:violet\">**IMPORTANTE**</span>\n",
    "- ```fsd``` $\\Rightarrow$ En este caso, no tomaremos la fecha como un dato importante. <span style=\"color:red\">NO IMPORTANTE</span>\n",
    "- ```fecha_sent``` $\\Rightarrow$ En este caso, no tomaremos la fecha como un dato importante. <span style=\"color:red\">NO IMPORTANTE</span>\n",
    "- ```num_sent``` $\\Rightarrow$ Este dato es un identificador de la sentencia. Como ya tenemos un identificador, no utilizaremos este atributo como identificador. <span style=\"color:red\">NO IMPORTANTE</span>\n",
    "- ```modo``` $\\Rightarrow$ Atributo que está altamente correlacionado con la variable objetivo (es una caracterización de la variable objetivo) <span style=\"color:red\">NO IMPORTANTE</span>\n",
    "- ```sexo``` $\\Rightarrow$ Es importante según el contexto. <span style=\"color:green\">IMPORTANTE</span>\n",
    "- ```edad``` $\\Rightarrow$ Es importante según el contexto. <span style=\"color:green\">IMPORTANTE</span>\n",
    "- ```ant``` $\\Rightarrow$ Es importante según el contexto. <span style=\"color:green\">IMPORTANTE</span>\n",
    "- ```sit_esp``` $\\Rightarrow$ Es importante según el contexto. <span style=\"color:green\">IMPORTANTE</span>\n",
    "- ```tipo_del``` $\\Rightarrow$ Es importante según el contexto. <span style=\"color:green\">IMPORTANTE</span>\n",
    "- ```tipo_del2``` $\\Rightarrow$ Es importante según el contexto. <span style=\"color:green\">IMPORTANTE</span>\n",
    "- ```tipo_del3``` $\\Rightarrow$ Es importante según el contexto. <span style=\"color:green\">IMPORTANTE</span>\n",
    "- ```otros_del``` $\\Rightarrow$ Es importante según el contexto. <span style=\"color:green\">IMPORTANTE</span>\n",
    "- ```otros2``` $\\Rightarrow$ Es importante según el contexto. <span style=\"color:green\">IMPORTANTE</span>\n",
    "- ```otros_del3``` $\\Rightarrow$ Es importante según el contexto. <span style=\"color:green\">IMPORTANTE</span>\n",
    "- ```Tent``` $\\Rightarrow$ Es importante según el contexto. <span style=\"color:green\">IMPORTANTE</span>\n",
    "- ```Tent_2``` $\\Rightarrow$ Es importante según el contexto. <span style=\"color:green\">IMPORTANTE</span>\n",
    "- ```Tent_3``` $\\Rightarrow$ Es importante según el contexto. <span style=\"color:green\">IMPORTANTE</span>\n",
    "- ```agrav``` $\\Rightarrow$ Es importante según el contexto. <span style=\"color:green\">IMPORTANTE</span>\n",
    "- ```agrav2``` $\\Rightarrow$ Es importante según el contexto. <span style=\"color:green\">IMPORTANTE</span>\n",
    "- ```agrav3``` $\\Rightarrow$ Es importante según el contexto. <span style=\"color:green\">IMPORTANTE</span>\n",
    "- ```multa``` $\\Rightarrow$ Atributo que está altamente correlacionado con la variable objetivo (es una caracterización de la variable objetivo) <span style=\"color:red\">NO IMPORTANTE</span>\n",
    "- ```monto_a``` $\\Rightarrow$ Atributo que está altamente correlacionado con la variable objetivo (es una caracterización de la variable objetivo) <span style=\"color:red\">NO IMPORTANTE</span>\n",
    "- ```monto_m``` $\\Rightarrow$ Atributo que está altamente correlacionado con la variable objetivo (es una caracterización de la variable objetivo) <span style=\"color:red\">NO IMPORTANTE</span>\n",
    "- ```monto_d``` $\\Rightarrow$ Atributo que está altamente correlacionado con la variable objetivo (es una caracterización de la variable objetivo) <span style=\"color:red\">NO IMPORTANTE</span>\n",
    "- ```inf_adicional``` $\\Rightarrow$ Es un atributo con información adicional. En este caso no lo consideraremos importante. <span style=\"color:red\">NO IMPORTANTE</span>"
   ]
  },
  {
   "cell_type": "markdown",
   "metadata": {},
   "source": [
    "## 3. Preparación de los datos <a class=\"anchor\" id=\"3-bullet\"></a>\n",
    "\n",
    "En esta sección se preparan los datos para ser utilizados por varios modelos. Se tiene en cuenta las restricciones de los modelos, por lo que se pueden preparar varios conjuntos para distintos modelos.\n",
    "\n",
    "Los problemas de este tipo se suelen utilizar modelos que resuelven problemas de clasificación binaria. Los modelos a probar son los siguientes:\n",
    "\n",
    "- **Algoritmos lineales**:\n",
    "\t- *[Logistic Regression](https://en.wikipedia.org/wiki/Logistic_regression)*\n",
    "\t\t- Restricciones:\n",
    "\t\t\t1. Variable de salida binaria.\n",
    "\t\t\t2. Remover el ruido.\n",
    "\t\t\t3. Distribución gaussiana de los atributos.\n",
    "\t\t\t4. Remover atributos correlacionados.\n",
    "\t- *[Linear Discriminant Analysis](https://en.wikipedia.org/wiki/Linear_discriminant_analysis)*\n",
    "\t\t- Restricciones:\n",
    "\t\t\t1. Variable de salida categórica.\n",
    "\t\t\t2. Distribución gaussiana de los atributos.\n",
    "\t\t\t3. Remover los outliers.\n",
    "\t\t\t4. Misma varianza (estandarizar los datos).\n",
    "\t\t\t5. Atributos numéricos.\n",
    "\t\t\t\n",
    "- **Algoritmos no lineales**:\n",
    "\t- *[CART](https://en.wikipedia.org/wiki/Decision_tree_learning)*\n",
    "\t\t- Restricciones:\n",
    "\t\t\t1. Sin restricciones.\n",
    "\t- *[Naive Bayes](https://en.wikipedia.org/wiki/Naive_Bayes_classifier)*\n",
    "\t\t- Restricciones:\n",
    "\t\t\t1. Entradas categóricas.\n",
    "\t\t\t2. Distribuciones gausianas (para el caso de entradas continuas), se puede utilizar transformaciones o otro kernel.\n",
    "\t\t\t3. Variable de salida categórica.\n",
    "\t\t\t4. Transformación logarítmica de los datos.\n",
    "\t- *[KNN](https://en.wikipedia.org/wiki/K-nearest_neighbors_algorithm)*\n",
    "\t\t- Restricciones:\n",
    "\t\t\t1. Re-escalar los datos (normalizar).\n",
    "\t\t\t2. Tratamiento de atributos faltantes.\n",
    "\t\t\t3. Baja dimensionalidad (se beneficia altamente de poca dimensionalidad, puede ser una opción probar feature selección con este modelo).\n",
    "\t- *[SVM](https://en.wikipedia.org/wiki/Support_vector_machine)*\n",
    "\t\t- Restricciones:\n",
    "\t\t\t1. Atributos numéricos.\n",
    "\t- *[Redes neuronales](https://en.wikipedia.org/wiki/Neural_network)*\n",
    "\t\t- Restricciones:\n",
    "\t\t\t1. Atributos numéricos.\n",
    "\n",
    "- **Ensambles**:\n",
    "\t- *[Random Forest](https://es.wikipedia.org/wiki/Random_forest)*\n",
    "\t\t- Restricciones:\n",
    "\t\t\t1. Sin restricciones.\n",
    "\t- *[Gradient Boosting Trees](https://en.wikipedia.org/wiki/Gradient_boosting)*\n",
    "\t\t- Restricciones:\n",
    "\t\t\t1. Sin restricciones."
   ]
  },
  {
   "cell_type": "markdown",
   "metadata": {},
   "source": [
    "### 3.1. Importación de librerías <a class=\"anchor\" id=\"3.1-bullet\"></a>\n",
    "\n",
    "Las librerías a utilizar son las siguientes:\n",
    "\n",
    "- ```numpy``` $\\rightarrow$ NumPy es el paquete fundamental para la informática científica con Python (http://www.numpy.org/).\n",
    "- ```pandas``` $\\rightarrow$ Pandas provee herramientas para la importación y el fácil análisis de los datos (https://pandas.pydata.org/).\n",
    "- ```matplotlib``` $\\rightarrow$ Matplotlib permite graficar los datos (https://matplotlib.org/).\n",
    "- ```seaborn``` $\\rightarrow$ Seaborn permite una linda visualización estadística de los datos, en conjunción con matplotlib (https://seaborn.pydata.org/).\n",
    "- ```pandas_profiling``` $\\rightarrow$ Brinda un completo resumen de los datos (https://github.com/pandas-profiling/pandas-profiling)."
   ]
  },
  {
   "cell_type": "code",
   "execution_count": 648,
   "metadata": {},
   "outputs": [],
   "source": [
    "import numpy as np \n",
    "import pandas as pd\n",
    "\n",
    "import seaborn as sns\n",
    "from matplotlib import pyplot as plt\n",
    "%matplotlib inline\n",
    "sns.set_style(\"whitegrid\")\n",
    "\n",
    "import pandas_profiling\n",
    "\n",
    "import warnings\n",
    "warnings.filterwarnings('ignore')"
   ]
  },
  {
   "cell_type": "markdown",
   "metadata": {},
   "source": [
    "### 3.2. Importación de los datos <a class=\"anchor\" id=\"3.2-bullet\"></a>\n",
    "\n",
    "Para importar los datos utilizamos Pandas (```pd.read_csv()```), con los cual los cargamos en la estructura de datos **Dataframe** de Pandas. En este punto también se realiza los joins necesarios para obtener un conjunto con el que trabajar."
   ]
  },
  {
   "cell_type": "code",
   "execution_count": 649,
   "metadata": {},
   "outputs": [
    {
     "data": {
      "text/html": [
       "<div>\n",
       "<style scoped>\n",
       "    .dataframe tbody tr th:only-of-type {\n",
       "        vertical-align: middle;\n",
       "    }\n",
       "\n",
       "    .dataframe tbody tr th {\n",
       "        vertical-align: top;\n",
       "    }\n",
       "\n",
       "    .dataframe thead th {\n",
       "        text-align: right;\n",
       "    }\n",
       "</style>\n",
       "<table border=\"1\" class=\"dataframe\">\n",
       "  <thead>\n",
       "    <tr style=\"text-align: right;\">\n",
       "      <th></th>\n",
       "      <th>turno</th>\n",
       "      <th>fecha</th>\n",
       "      <th>tipo_proc</th>\n",
       "      <th>fsd</th>\n",
       "      <th>fecha_sent</th>\n",
       "      <th>num_sent</th>\n",
       "      <th>modo</th>\n",
       "      <th>sexo</th>\n",
       "      <th>edad</th>\n",
       "      <th>ant</th>\n",
       "      <th>...</th>\n",
       "      <th>agrv2</th>\n",
       "      <th>tipo_del3</th>\n",
       "      <th>otr_del3</th>\n",
       "      <th>tent_3</th>\n",
       "      <th>agrav3</th>\n",
       "      <th>inf_adicional</th>\n",
       "      <th>multa</th>\n",
       "      <th>monto_a</th>\n",
       "      <th>monto_m</th>\n",
       "      <th>monto_d</th>\n",
       "    </tr>\n",
       "    <tr>\n",
       "      <th>id</th>\n",
       "      <th></th>\n",
       "      <th></th>\n",
       "      <th></th>\n",
       "      <th></th>\n",
       "      <th></th>\n",
       "      <th></th>\n",
       "      <th></th>\n",
       "      <th></th>\n",
       "      <th></th>\n",
       "      <th></th>\n",
       "      <th></th>\n",
       "      <th></th>\n",
       "      <th></th>\n",
       "      <th></th>\n",
       "      <th></th>\n",
       "      <th></th>\n",
       "      <th></th>\n",
       "      <th></th>\n",
       "      <th></th>\n",
       "      <th></th>\n",
       "      <th></th>\n",
       "    </tr>\n",
       "  </thead>\n",
       "  <tbody>\n",
       "    <tr>\n",
       "      <th>3395</th>\n",
       "      <td>10</td>\n",
       "      <td>2015-01-08</td>\n",
       "      <td>2</td>\n",
       "      <td>2016-03-17</td>\n",
       "      <td>2016-09-29</td>\n",
       "      <td>166</td>\n",
       "      <td>1</td>\n",
       "      <td>1</td>\n",
       "      <td>28</td>\n",
       "      <td>2</td>\n",
       "      <td>...</td>\n",
       "      <td>-1.0</td>\n",
       "      <td>-1.0</td>\n",
       "      <td>Sin dato</td>\n",
       "      <td>0.0</td>\n",
       "      <td>-1.0</td>\n",
       "      <td>PENA 30 UR</td>\n",
       "      <td>30UR</td>\n",
       "      <td>0.0</td>\n",
       "      <td>0.0</td>\n",
       "      <td>0.0</td>\n",
       "    </tr>\n",
       "    <tr>\n",
       "      <th>3395</th>\n",
       "      <td>10</td>\n",
       "      <td>2015-01-08</td>\n",
       "      <td>2</td>\n",
       "      <td>2016-03-17</td>\n",
       "      <td>2016-09-29</td>\n",
       "      <td>166</td>\n",
       "      <td>1</td>\n",
       "      <td>1</td>\n",
       "      <td>18</td>\n",
       "      <td>3</td>\n",
       "      <td>...</td>\n",
       "      <td>-1.0</td>\n",
       "      <td>-1.0</td>\n",
       "      <td>Sin dato</td>\n",
       "      <td>0.0</td>\n",
       "      <td>-1.0</td>\n",
       "      <td>PENA 25 UR</td>\n",
       "      <td>25UR</td>\n",
       "      <td>0.0</td>\n",
       "      <td>0.0</td>\n",
       "      <td>0.0</td>\n",
       "    </tr>\n",
       "    <tr>\n",
       "      <th>3395</th>\n",
       "      <td>10</td>\n",
       "      <td>2015-01-08</td>\n",
       "      <td>2</td>\n",
       "      <td>2016-03-17</td>\n",
       "      <td>2016-09-29</td>\n",
       "      <td>166</td>\n",
       "      <td>1</td>\n",
       "      <td>1</td>\n",
       "      <td>19</td>\n",
       "      <td>1</td>\n",
       "      <td>...</td>\n",
       "      <td>-1.0</td>\n",
       "      <td>-1.0</td>\n",
       "      <td>Sin dato</td>\n",
       "      <td>0.0</td>\n",
       "      <td>-1.0</td>\n",
       "      <td>PENA 25 UR</td>\n",
       "      <td>25UR</td>\n",
       "      <td>0.0</td>\n",
       "      <td>0.0</td>\n",
       "      <td>0.0</td>\n",
       "    </tr>\n",
       "    <tr>\n",
       "      <th>3438</th>\n",
       "      <td>10</td>\n",
       "      <td>2015-07-09</td>\n",
       "      <td>2</td>\n",
       "      <td>2016-03-17</td>\n",
       "      <td>2016-05-20</td>\n",
       "      <td>83</td>\n",
       "      <td>1</td>\n",
       "      <td>1</td>\n",
       "      <td>26</td>\n",
       "      <td>1</td>\n",
       "      <td>...</td>\n",
       "      <td>-1.0</td>\n",
       "      <td>-1.0</td>\n",
       "      <td>Sin dato</td>\n",
       "      <td>0.0</td>\n",
       "      <td>-1.0</td>\n",
       "      <td>PENA 22 UR</td>\n",
       "      <td>22UR</td>\n",
       "      <td>0.0</td>\n",
       "      <td>0.0</td>\n",
       "      <td>0.0</td>\n",
       "    </tr>\n",
       "    <tr>\n",
       "      <th>3438</th>\n",
       "      <td>10</td>\n",
       "      <td>2015-07-09</td>\n",
       "      <td>2</td>\n",
       "      <td>2016-03-17</td>\n",
       "      <td>2016-05-20</td>\n",
       "      <td>83</td>\n",
       "      <td>1</td>\n",
       "      <td>1</td>\n",
       "      <td>26</td>\n",
       "      <td>1</td>\n",
       "      <td>...</td>\n",
       "      <td>-1.0</td>\n",
       "      <td>-1.0</td>\n",
       "      <td>Sin dato</td>\n",
       "      <td>0.0</td>\n",
       "      <td>-1.0</td>\n",
       "      <td>MULTA 22 UR</td>\n",
       "      <td>22UR</td>\n",
       "      <td>0.0</td>\n",
       "      <td>0.0</td>\n",
       "      <td>0.0</td>\n",
       "    </tr>\n",
       "  </tbody>\n",
       "</table>\n",
       "<p>5 rows × 28 columns</p>\n",
       "</div>"
      ],
      "text/plain": [
       "      turno      fecha  tipo_proc        fsd fecha_sent  num_sent  modo  sexo  \\\n",
       "id                                                                              \n",
       "3395     10 2015-01-08          2 2016-03-17 2016-09-29       166     1     1   \n",
       "3395     10 2015-01-08          2 2016-03-17 2016-09-29       166     1     1   \n",
       "3395     10 2015-01-08          2 2016-03-17 2016-09-29       166     1     1   \n",
       "3438     10 2015-07-09          2 2016-03-17 2016-05-20        83     1     1   \n",
       "3438     10 2015-07-09          2 2016-03-17 2016-05-20        83     1     1   \n",
       "\n",
       "      edad  ant   ...     agrv2  tipo_del3  otr_del3  tent_3  agrav3  \\\n",
       "id                ...                                                  \n",
       "3395    28    2   ...      -1.0       -1.0  Sin dato     0.0    -1.0   \n",
       "3395    18    3   ...      -1.0       -1.0  Sin dato     0.0    -1.0   \n",
       "3395    19    1   ...      -1.0       -1.0  Sin dato     0.0    -1.0   \n",
       "3438    26    1   ...      -1.0       -1.0  Sin dato     0.0    -1.0   \n",
       "3438    26    1   ...      -1.0       -1.0  Sin dato     0.0    -1.0   \n",
       "\n",
       "      inf_adicional multa  monto_a  monto_m  monto_d  \n",
       "id                                                    \n",
       "3395     PENA 30 UR  30UR      0.0      0.0      0.0  \n",
       "3395     PENA 25 UR  25UR      0.0      0.0      0.0  \n",
       "3395     PENA 25 UR  25UR      0.0      0.0      0.0  \n",
       "3438     PENA 22 UR  22UR      0.0      0.0      0.0  \n",
       "3438    MULTA 22 UR  22UR      0.0      0.0      0.0  \n",
       "\n",
       "[5 rows x 28 columns]"
      ]
     },
     "execution_count": 649,
     "metadata": {},
     "output_type": "execute_result"
    }
   ],
   "source": [
    "# Carga de los datos.\n",
    "# Estan encodeados en \"latin1\" y separados por coma.\n",
    "data = pd.read_csv(\"../../post-datasets/basepenal2016_raw.csv\", sep=',', \n",
    "                   encoding='latin1', index_col='id', parse_dates=['fecha', 'fsd', 'fecha_sent'])\n",
    "\n",
    "# Mostramos los primeros datos.\n",
    "data.head()"
   ]
  },
  {
   "cell_type": "markdown",
   "metadata": {},
   "source": [
    "### 3.3. Visualización de los datos <a class=\"anchor\" id=\"3.3-bullet\"></a>\n",
    "\n",
    "Para visualizar los datos podemos utilizar varias de las funciones de Pandas, como lo son:\n",
    "\n",
    "- ```pd.dataframe.head()```\n",
    "- ```pd.dataframe.sample(5)```\n",
    "- ```pd.dataframe.keys()```"
   ]
  },
  {
   "cell_type": "code",
   "execution_count": 650,
   "metadata": {},
   "outputs": [
    {
     "data": {
      "text/html": [
       "<div>\n",
       "<style scoped>\n",
       "    .dataframe tbody tr th:only-of-type {\n",
       "        vertical-align: middle;\n",
       "    }\n",
       "\n",
       "    .dataframe tbody tr th {\n",
       "        vertical-align: top;\n",
       "    }\n",
       "\n",
       "    .dataframe thead th {\n",
       "        text-align: right;\n",
       "    }\n",
       "</style>\n",
       "<table border=\"1\" class=\"dataframe\">\n",
       "  <thead>\n",
       "    <tr style=\"text-align: right;\">\n",
       "      <th></th>\n",
       "      <th>turno</th>\n",
       "      <th>fecha</th>\n",
       "      <th>tipo_proc</th>\n",
       "      <th>fsd</th>\n",
       "      <th>fecha_sent</th>\n",
       "      <th>num_sent</th>\n",
       "      <th>modo</th>\n",
       "      <th>sexo</th>\n",
       "      <th>edad</th>\n",
       "      <th>ant</th>\n",
       "      <th>...</th>\n",
       "      <th>agrv2</th>\n",
       "      <th>tipo_del3</th>\n",
       "      <th>otr_del3</th>\n",
       "      <th>tent_3</th>\n",
       "      <th>agrav3</th>\n",
       "      <th>inf_adicional</th>\n",
       "      <th>multa</th>\n",
       "      <th>monto_a</th>\n",
       "      <th>monto_m</th>\n",
       "      <th>monto_d</th>\n",
       "    </tr>\n",
       "    <tr>\n",
       "      <th>id</th>\n",
       "      <th></th>\n",
       "      <th></th>\n",
       "      <th></th>\n",
       "      <th></th>\n",
       "      <th></th>\n",
       "      <th></th>\n",
       "      <th></th>\n",
       "      <th></th>\n",
       "      <th></th>\n",
       "      <th></th>\n",
       "      <th></th>\n",
       "      <th></th>\n",
       "      <th></th>\n",
       "      <th></th>\n",
       "      <th></th>\n",
       "      <th></th>\n",
       "      <th></th>\n",
       "      <th></th>\n",
       "      <th></th>\n",
       "      <th></th>\n",
       "      <th></th>\n",
       "    </tr>\n",
       "  </thead>\n",
       "  <tbody>\n",
       "    <tr>\n",
       "      <th>1895</th>\n",
       "      <td>16</td>\n",
       "      <td>2014-08-19</td>\n",
       "      <td>1</td>\n",
       "      <td>2016-08-31</td>\n",
       "      <td>2016-03-10</td>\n",
       "      <td>276</td>\n",
       "      <td>1</td>\n",
       "      <td>1</td>\n",
       "      <td>20</td>\n",
       "      <td>1</td>\n",
       "      <td>...</td>\n",
       "      <td>-1.0</td>\n",
       "      <td>-1.0</td>\n",
       "      <td>Sin dato</td>\n",
       "      <td>0.0</td>\n",
       "      <td>-1.0</td>\n",
       "      <td>Sin dato</td>\n",
       "      <td>Sin dato</td>\n",
       "      <td>0.0</td>\n",
       "      <td>24.0</td>\n",
       "      <td>0.0</td>\n",
       "    </tr>\n",
       "    <tr>\n",
       "      <th>1145</th>\n",
       "      <td>20</td>\n",
       "      <td>2015-08-09</td>\n",
       "      <td>1</td>\n",
       "      <td>2016-06-27</td>\n",
       "      <td>2016-10-08</td>\n",
       "      <td>149</td>\n",
       "      <td>1</td>\n",
       "      <td>1</td>\n",
       "      <td>48</td>\n",
       "      <td>3</td>\n",
       "      <td>...</td>\n",
       "      <td>-1.0</td>\n",
       "      <td>-1.0</td>\n",
       "      <td>Sin dato</td>\n",
       "      <td>0.0</td>\n",
       "      <td>-1.0</td>\n",
       "      <td>Sin dato</td>\n",
       "      <td>Sin dato</td>\n",
       "      <td>6.0</td>\n",
       "      <td>2.0</td>\n",
       "      <td>0.0</td>\n",
       "    </tr>\n",
       "    <tr>\n",
       "      <th>3589</th>\n",
       "      <td>19</td>\n",
       "      <td>2015-10-08</td>\n",
       "      <td>2</td>\n",
       "      <td>2015-12-22</td>\n",
       "      <td>2016-12-02</td>\n",
       "      <td>9</td>\n",
       "      <td>1</td>\n",
       "      <td>1</td>\n",
       "      <td>50</td>\n",
       "      <td>1</td>\n",
       "      <td>...</td>\n",
       "      <td>-1.0</td>\n",
       "      <td>-1.0</td>\n",
       "      <td>Sin dato</td>\n",
       "      <td>0.0</td>\n",
       "      <td>-1.0</td>\n",
       "      <td>Sin dato</td>\n",
       "      <td>Sin dato</td>\n",
       "      <td>0.0</td>\n",
       "      <td>12.0</td>\n",
       "      <td>0.0</td>\n",
       "    </tr>\n",
       "    <tr>\n",
       "      <th>2771</th>\n",
       "      <td>9</td>\n",
       "      <td>2011-11-03</td>\n",
       "      <td>3</td>\n",
       "      <td>2016-05-10</td>\n",
       "      <td>2016-12-10</td>\n",
       "      <td>126</td>\n",
       "      <td>1</td>\n",
       "      <td>1</td>\n",
       "      <td>22</td>\n",
       "      <td>2</td>\n",
       "      <td>...</td>\n",
       "      <td>-1.0</td>\n",
       "      <td>-1.0</td>\n",
       "      <td>Sin dato</td>\n",
       "      <td>0.0</td>\n",
       "      <td>-1.0</td>\n",
       "      <td>Sin dato</td>\n",
       "      <td>Sin dato</td>\n",
       "      <td>7.0</td>\n",
       "      <td>9.0</td>\n",
       "      <td>0.0</td>\n",
       "    </tr>\n",
       "    <tr>\n",
       "      <th>1045</th>\n",
       "      <td>20</td>\n",
       "      <td>2016-11-04</td>\n",
       "      <td>2</td>\n",
       "      <td>2016-10-24</td>\n",
       "      <td>2016-11-24</td>\n",
       "      <td>193</td>\n",
       "      <td>1</td>\n",
       "      <td>1</td>\n",
       "      <td>18</td>\n",
       "      <td>1</td>\n",
       "      <td>...</td>\n",
       "      <td>-1.0</td>\n",
       "      <td>-1.0</td>\n",
       "      <td>Sin dato</td>\n",
       "      <td>0.0</td>\n",
       "      <td>-1.0</td>\n",
       "      <td>Sin dato</td>\n",
       "      <td>Sin dato</td>\n",
       "      <td>0.0</td>\n",
       "      <td>18.0</td>\n",
       "      <td>0.0</td>\n",
       "    </tr>\n",
       "  </tbody>\n",
       "</table>\n",
       "<p>5 rows × 28 columns</p>\n",
       "</div>"
      ],
      "text/plain": [
       "      turno      fecha  tipo_proc        fsd fecha_sent  num_sent  modo  sexo  \\\n",
       "id                                                                              \n",
       "1895     16 2014-08-19          1 2016-08-31 2016-03-10       276     1     1   \n",
       "1145     20 2015-08-09          1 2016-06-27 2016-10-08       149     1     1   \n",
       "3589     19 2015-10-08          2 2015-12-22 2016-12-02         9     1     1   \n",
       "2771      9 2011-11-03          3 2016-05-10 2016-12-10       126     1     1   \n",
       "1045     20 2016-11-04          2 2016-10-24 2016-11-24       193     1     1   \n",
       "\n",
       "      edad  ant   ...     agrv2  tipo_del3  otr_del3  tent_3  agrav3  \\\n",
       "id                ...                                                  \n",
       "1895    20    1   ...      -1.0       -1.0  Sin dato     0.0    -1.0   \n",
       "1145    48    3   ...      -1.0       -1.0  Sin dato     0.0    -1.0   \n",
       "3589    50    1   ...      -1.0       -1.0  Sin dato     0.0    -1.0   \n",
       "2771    22    2   ...      -1.0       -1.0  Sin dato     0.0    -1.0   \n",
       "1045    18    1   ...      -1.0       -1.0  Sin dato     0.0    -1.0   \n",
       "\n",
       "      inf_adicional     multa  monto_a  monto_m  monto_d  \n",
       "id                                                        \n",
       "1895       Sin dato  Sin dato      0.0     24.0      0.0  \n",
       "1145       Sin dato  Sin dato      6.0      2.0      0.0  \n",
       "3589       Sin dato  Sin dato      0.0     12.0      0.0  \n",
       "2771       Sin dato  Sin dato      7.0      9.0      0.0  \n",
       "1045       Sin dato  Sin dato      0.0     18.0      0.0  \n",
       "\n",
       "[5 rows x 28 columns]"
      ]
     },
     "execution_count": 650,
     "metadata": {},
     "output_type": "execute_result"
    }
   ],
   "source": [
    "# Ver una muestra aleatoria de 5.\n",
    "data.sample(5)"
   ]
  },
  {
   "cell_type": "code",
   "execution_count": 651,
   "metadata": {},
   "outputs": [
    {
     "data": {
      "text/plain": [
       "Index(['turno', 'fecha', 'tipo_proc', 'fsd', 'fecha_sent', 'num_sent', 'modo',\n",
       "       'sexo', 'edad', 'ant', 'sit_esp', 'tipo_del', 'otros_del', 'tent',\n",
       "       'agrav', 'tipo_del2', 'otros2', 'tent_2', 'agrv2', 'tipo_del3',\n",
       "       'otr_del3', 'tent_3', 'agrav3', 'inf_adicional', 'multa', 'monto_a',\n",
       "       'monto_m', 'monto_d'],\n",
       "      dtype='object')"
      ]
     },
     "execution_count": 651,
     "metadata": {},
     "output_type": "execute_result"
    }
   ],
   "source": [
    "# Ver los atributos.\n",
    "data.keys()"
   ]
  },
  {
   "cell_type": "markdown",
   "metadata": {},
   "source": [
    "#### 3.3.1. Pre-tratamiento y visualización de los datos <a class=\"anchor\" id=\"3.3.1-bullet\"></a>"
   ]
  },
  {
   "cell_type": "markdown",
   "metadata": {},
   "source": [
    "Primeramente, separamos el conjunto de los predictores y la variable dependiente. Luego, eliminamos aquellos atributos que según nuestro análisis del negocio no son importantes para el objetivo."
   ]
  },
  {
   "cell_type": "code",
   "execution_count": 652,
   "metadata": {},
   "outputs": [],
   "source": [
    "# Obtenemos la variable objetivo.\n",
    "label = data['tipo_proc']\n",
    "\n",
    "# Eliminamos la variable objetivo de los predictores para realizar las transformaciones solamente a los predictores.\n",
    "data.drop(['tipo_proc'], axis=1, inplace=True)\n",
    "\n",
    "# Eliminamos los atributos de fechas.\n",
    "data.drop(['fecha', 'fsd', 'fecha_sent'], axis=1, inplace=True)\n",
    "\n",
    "# Eliminamos atributos que no soy importantes o que están altamente correlacionados con la variable objetivo.\n",
    "data.drop(['num_sent', 'modo', 'multa', 'monto_a', 'monto_m', 'monto_d', 'inf_adicional'], axis=1, inplace=True)"
   ]
  },
  {
   "cell_type": "markdown",
   "metadata": {},
   "source": [
    "Luego de la eliminación de los atributos que no son importantes, podemos visualizar los predictores que nos quedan luego de eliminar los que no cumplen con las reglas del negocio o los que según un análisis del contexto no aplican o no se alinean con los objetivos."
   ]
  },
  {
   "cell_type": "code",
   "execution_count": 653,
   "metadata": {},
   "outputs": [
    {
     "data": {
      "text/plain": [
       "Index(['turno', 'sexo', 'edad', 'ant', 'sit_esp', 'tipo_del', 'otros_del',\n",
       "       'tent', 'agrav', 'tipo_del2', 'otros2', 'tent_2', 'agrv2', 'tipo_del3',\n",
       "       'otr_del3', 'tent_3', 'agrav3'],\n",
       "      dtype='object')"
      ]
     },
     "execution_count": 653,
     "metadata": {},
     "output_type": "execute_result"
    }
   ],
   "source": [
    "# Visualizar los atributos.\n",
    "data.keys()"
   ]
  },
  {
   "cell_type": "code",
   "execution_count": 654,
   "metadata": {},
   "outputs": [
    {
     "name": "stdout",
     "output_type": "stream",
     "text": [
      "Cantidad de atributos:  17\n"
     ]
    }
   ],
   "source": [
    "# Cantidad de atributos luego del pre-tratamiento de los datos.\n",
    "print('Cantidad de atributos: ', len(data.keys()))"
   ]
  },
  {
   "cell_type": "markdown",
   "metadata": {},
   "source": [
    "Para visualizar la información del conjunto utilizamos ```pd.dataframe.info()```"
   ]
  },
  {
   "cell_type": "code",
   "execution_count": 655,
   "metadata": {},
   "outputs": [
    {
     "name": "stdout",
     "output_type": "stream",
     "text": [
      "<class 'pandas.core.frame.DataFrame'>\n",
      "Int64Index: 4878 entries, 3395 to 3370\n",
      "Data columns (total 17 columns):\n",
      "turno        4878 non-null int64\n",
      "sexo         4878 non-null int64\n",
      "edad         4878 non-null int64\n",
      "ant          4878 non-null int64\n",
      "sit_esp      4878 non-null int64\n",
      "tipo_del     4878 non-null int64\n",
      "otros_del    4878 non-null object\n",
      "tent         4877 non-null float64\n",
      "agrav        4877 non-null float64\n",
      "tipo_del2    4877 non-null float64\n",
      "otros2       4877 non-null object\n",
      "tent_2       4877 non-null float64\n",
      "agrv2        4877 non-null float64\n",
      "tipo_del3    4877 non-null float64\n",
      "otr_del3     4877 non-null object\n",
      "tent_3       4877 non-null float64\n",
      "agrav3       4877 non-null float64\n",
      "dtypes: float64(8), int64(6), object(3)\n",
      "memory usage: 686.0+ KB\n"
     ]
    }
   ],
   "source": [
    "# Conjunto de datos.\n",
    "data.info()"
   ]
  },
  {
   "cell_type": "markdown",
   "metadata": {},
   "source": [
    "Esta función nos muestra los tipos de datos (enteros, reales, nominales, etc.) y también la cantidad de elementos que tiene el conjunto, así como también cuantos elementos tiene cada atributo.\n",
    "\n",
    "Como resultado podemos ver que se tienen:\n",
    "\n",
    "- Enteros $\\rightarrow$ 6\n",
    "- Reales $\\rightarrow$ 8\n",
    "- Nominales $\\rightarrow$ 3\n",
    "\n",
    "También podemos ver que el conjunto tiene **4878** ejemplos.\n",
    "\n",
    "En este punto vemos el primer problema ya que tenemos pocos ejemplos para que nuestros modelos aprendan y generalicen correctamente los datos."
   ]
  },
  {
   "cell_type": "markdown",
   "metadata": {},
   "source": [
    "Primeramente vemos que en muchos casos hay 4877 ejemplos.\n",
    "\n",
    "Para ver cual es el problema ejecutamos el comando que nos muestra cuales atributos tienen datos que son **Null**. Estos datos pueden haber sido mal obtenidos o registrados incorrectamente. Para chequear esto utilizamos ```pd.dataframe.isnull().sum()```."
   ]
  },
  {
   "cell_type": "code",
   "execution_count": 656,
   "metadata": {},
   "outputs": [
    {
     "data": {
      "text/plain": [
       "turno        0\n",
       "sexo         0\n",
       "edad         0\n",
       "ant          0\n",
       "sit_esp      0\n",
       "tipo_del     0\n",
       "otros_del    0\n",
       "tent         1\n",
       "agrav        1\n",
       "tipo_del2    1\n",
       "otros2       1\n",
       "tent_2       1\n",
       "agrv2        1\n",
       "tipo_del3    1\n",
       "otr_del3     1\n",
       "tent_3       1\n",
       "agrav3       1\n",
       "dtype: int64"
      ]
     },
     "execution_count": 656,
     "metadata": {},
     "output_type": "execute_result"
    }
   ],
   "source": [
    "# Chequear atribtutos que son null.\n",
    "data.isnull().sum()"
   ]
  },
  {
   "cell_type": "markdown",
   "metadata": {},
   "source": [
    "Vemos que hay varios atributos que tienen un valor sin registrar. Esto no lo trataermos como atributo faltante, ya que esto se trata mas adelante. Simplemente eliminamos dichos ejemplos mediante el comando ```pd.dropna()```. Nota: Los atributos faltantes, según el negocio tienen valores definidos; es por esto que este caso no lo tratamos más adelante como atributos faltantes."
   ]
  },
  {
   "cell_type": "code",
   "execution_count": 657,
   "metadata": {},
   "outputs": [],
   "source": [
    "# Eliminamos atributos que son null.\n",
    "\n",
    "# Unimos con la variable objetivo para que los cambios sean coherentes.\n",
    "data['tipo_proc'] = label.values\n",
    "\n",
    "# Eliminamos los NULL.\n",
    "data.dropna(inplace=True)\n",
    "\n",
    "# Obtenemos la variable objetivo.\n",
    "label = data['tipo_proc']\n",
    "\n",
    "# Eliminamos la variable objetivo de los predictores para realizar las transformaciones solamente a los predictores.\n",
    "data.drop(['tipo_proc'], axis=1, inplace=True)"
   ]
  },
  {
   "cell_type": "markdown",
   "metadata": {},
   "source": [
    "Chequeamos nuevamente la informacion."
   ]
  },
  {
   "cell_type": "code",
   "execution_count": 658,
   "metadata": {},
   "outputs": [
    {
     "data": {
      "text/plain": [
       "turno        0\n",
       "sexo         0\n",
       "edad         0\n",
       "ant          0\n",
       "sit_esp      0\n",
       "tipo_del     0\n",
       "otros_del    0\n",
       "tent         0\n",
       "agrav        0\n",
       "tipo_del2    0\n",
       "otros2       0\n",
       "tent_2       0\n",
       "agrv2        0\n",
       "tipo_del3    0\n",
       "otr_del3     0\n",
       "tent_3       0\n",
       "agrav3       0\n",
       "dtype: int64"
      ]
     },
     "execution_count": 658,
     "metadata": {},
     "output_type": "execute_result"
    }
   ],
   "source": [
    "# Chequear atribtutos que son null.\n",
    "data.isnull().sum()"
   ]
  },
  {
   "cell_type": "markdown",
   "metadata": {},
   "source": [
    "Es importante destacar los tipos de datos. En este punto se hacen matchear los tipos de datos con los especificados por el dominio. Por este motivo, convertimos los atributos a su debido tipo. Primeramente creo una función que cambia el tipo del atributo a categoría. Luego obtengo la lista de los atributos que deben ser categoricos y les aplico la función."
   ]
  },
  {
   "cell_type": "code",
   "execution_count": 659,
   "metadata": {},
   "outputs": [],
   "source": [
    "# Función que cambia el tipo del atributo a categorico.\n",
    "def ChangeToCategorical(att):\n",
    "    for x in att:\n",
    "        data[x] = data[x].astype('int64')\n",
    "        data[x] = data[x].astype('category')"
   ]
  },
  {
   "cell_type": "code",
   "execution_count": 660,
   "metadata": {},
   "outputs": [
    {
     "name": "stdout",
     "output_type": "stream",
     "text": [
      "<class 'pandas.core.frame.DataFrame'>\n",
      "Int64Index: 4877 entries, 3395 to 3370\n",
      "Data columns (total 17 columns):\n",
      "turno        4877 non-null category\n",
      "sexo         4877 non-null category\n",
      "edad         4877 non-null int64\n",
      "ant          4877 non-null category\n",
      "sit_esp      4877 non-null category\n",
      "tipo_del     4877 non-null category\n",
      "otros_del    4877 non-null object\n",
      "tent         4877 non-null category\n",
      "agrav        4877 non-null category\n",
      "tipo_del2    4877 non-null category\n",
      "otros2       4877 non-null object\n",
      "tent_2       4877 non-null category\n",
      "agrv2        4877 non-null category\n",
      "tipo_del3    4877 non-null category\n",
      "otr_del3     4877 non-null object\n",
      "tent_3       4877 non-null category\n",
      "agrav3       4877 non-null category\n",
      "dtypes: category(13), int64(1), object(3)\n",
      "memory usage: 256.6+ KB\n"
     ]
    }
   ],
   "source": [
    "# Cargo la lista de los atributos que quiero seleccionar.\n",
    "blackList = set(['edad', 'otros_del', 'otros2', 'otr_del3'])\n",
    "attributesList = data.columns.values.tolist()\n",
    "selectList = [x for x in attributesList if x not in blackList]\n",
    "\n",
    "# Le cambio el tipo a cada atributo.\n",
    "ChangeToCategorical(selectList)\n",
    "\n",
    "# Imprimo la información del conjunto.\n",
    "data.info()"
   ]
  },
  {
   "cell_type": "markdown",
   "metadata": {},
   "source": [
    "En este sentido, todavía no hemos analizado la variable objetivo. La cantidad de ejemplos de cada clase de la variable objetivo es muy importante, ya que un comportamiento en donde una clase supere ampliamente en cantidad a otra clase puede llevar a un sobre ajuste del modelo.\n",
    "\n",
    "Para contar la cantidad de valores de cada clase en la variable objetivo utilizamos el método ```pd.series.value_counts()```. La variable objetivo es del tipo <u>serie</u>, ya que pandas automáticamente detecta que los datos son de un único nivel."
   ]
  },
  {
   "cell_type": "code",
   "execution_count": 661,
   "metadata": {},
   "outputs": [
    {
     "data": {
      "text/plain": [
       "1    3304\n",
       "2    1372\n",
       "3     201\n",
       "Name: tipo_proc, dtype: int64"
      ]
     },
     "execution_count": 661,
     "metadata": {},
     "output_type": "execute_result"
    }
   ],
   "source": [
    "# Contamos la cantidad de cada tipo de la variable objetivo.\n",
    "label.value_counts()"
   ]
  },
  {
   "cell_type": "markdown",
   "metadata": {},
   "source": [
    "En este punto vemos que no tenemos tanto problema, ya que la clase más baja en sí es una clase que la tendremos que tratar, porque no está dentro las reglas de este problema. Tampoco tenemos problema con las otras clases ya que la proporción, si bien no es la ideal, no causa problema:\n",
    "\n",
    "- Con Prisión $\\rightarrow$ 67%\n",
    "- Sin Prisión $\\rightarrow$ 33% "
   ]
  },
  {
   "cell_type": "markdown",
   "metadata": {},
   "source": [
    "Podemos visualizar las estadísticas de los datos con la funcionalidad ```pd.dataframe.describe()``` de Pandas. En este caso nos va a mostrar solo la edad, que es el único atributo numérico que tenemos."
   ]
  },
  {
   "cell_type": "code",
   "execution_count": 662,
   "metadata": {},
   "outputs": [
    {
     "data": {
      "text/html": [
       "<div>\n",
       "<style scoped>\n",
       "    .dataframe tbody tr th:only-of-type {\n",
       "        vertical-align: middle;\n",
       "    }\n",
       "\n",
       "    .dataframe tbody tr th {\n",
       "        vertical-align: top;\n",
       "    }\n",
       "\n",
       "    .dataframe thead th {\n",
       "        text-align: right;\n",
       "    }\n",
       "</style>\n",
       "<table border=\"1\" class=\"dataframe\">\n",
       "  <thead>\n",
       "    <tr style=\"text-align: right;\">\n",
       "      <th></th>\n",
       "      <th>edad</th>\n",
       "    </tr>\n",
       "  </thead>\n",
       "  <tbody>\n",
       "    <tr>\n",
       "      <th>count</th>\n",
       "      <td>4877.000000</td>\n",
       "    </tr>\n",
       "    <tr>\n",
       "      <th>mean</th>\n",
       "      <td>30.787779</td>\n",
       "    </tr>\n",
       "    <tr>\n",
       "      <th>std</th>\n",
       "      <td>11.136683</td>\n",
       "    </tr>\n",
       "    <tr>\n",
       "      <th>min</th>\n",
       "      <td>1.000000</td>\n",
       "    </tr>\n",
       "    <tr>\n",
       "      <th>25%</th>\n",
       "      <td>22.000000</td>\n",
       "    </tr>\n",
       "    <tr>\n",
       "      <th>50%</th>\n",
       "      <td>28.000000</td>\n",
       "    </tr>\n",
       "    <tr>\n",
       "      <th>75%</th>\n",
       "      <td>36.000000</td>\n",
       "    </tr>\n",
       "    <tr>\n",
       "      <th>max</th>\n",
       "      <td>105.000000</td>\n",
       "    </tr>\n",
       "  </tbody>\n",
       "</table>\n",
       "</div>"
      ],
      "text/plain": [
       "              edad\n",
       "count  4877.000000\n",
       "mean     30.787779\n",
       "std      11.136683\n",
       "min       1.000000\n",
       "25%      22.000000\n",
       "50%      28.000000\n",
       "75%      36.000000\n",
       "max     105.000000"
      ]
     },
     "execution_count": 662,
     "metadata": {},
     "output_type": "execute_result"
    }
   ],
   "source": [
    "# Ver estadísticas simples de los datos.\n",
    "data.describe()"
   ]
  },
  {
   "cell_type": "markdown",
   "metadata": {},
   "source": [
    "En este punto, vemos que cada atributo cumpla con las reglas del negocio.\n",
    "\n",
    "Primeramente, vemos que cada atributo, que es nominal, tenga los valores correctos ni no tenga ningún valor fuera del dominio.\n",
    "\n",
    "Para esto podemos utilizar una función similar a la función que utilizamos para saber cuantos ejemplos hay de cada clase en la variable objetivo. Solo que esta vez, nos interesa únicamente las clases de cada atributo, por eso utilizamos ```pd.series.unique()```. Utilizaremos una función que para cada atributo pasado como parámetro impime sus categorías."
   ]
  },
  {
   "cell_type": "code",
   "execution_count": 663,
   "metadata": {},
   "outputs": [],
   "source": [
    "# Función que imprime las categorias.\n",
    "def PrintCategoriesOfAttributes(cat):\n",
    "    for x in cat:\n",
    "        print(x, ' -> ', sorted(data[x].unique()))"
   ]
  },
  {
   "cell_type": "markdown",
   "metadata": {},
   "source": [
    "Según el análisis previo realizado, y después de la eliminación de los atributos, el único atributo que es numérico es *edad* (hay que destacar que el atributo *otros_del*, *otros2* y *otros_del3* son todos texto, por lo que en este caso los eliminamos ya que tendrían muchas categorías), por lo que impimimos las categorías de todos los atributos menos el de la edad."
   ]
  },
  {
   "cell_type": "code",
   "execution_count": 664,
   "metadata": {},
   "outputs": [
    {
     "name": "stdout",
     "output_type": "stream",
     "text": [
      "turno  ->  [1, 2, 3, 4, 5, 6, 7, 8, 9, 10, 11, 12, 13, 14, 15, 16, 17, 18, 19, 20]\n",
      "sexo  ->  [1, 2]\n",
      "ant  ->  [1, 2, 3]\n",
      "sit_esp  ->  [-1, 1, 3, 4, 5, 6]\n",
      "tipo_del  ->  [1, 2, 3, 4, 5, 6, 7, 8, 9, 10, 11, 12, 13, 14, 15, 16, 17, 18, 19, 20]\n",
      "tent  ->  [0, 1]\n",
      "agrav  ->  [-1, 1, 2, 3]\n",
      "tipo_del2  ->  [-1, 1, 2, 3, 4, 5, 6, 8, 9, 10, 11, 12, 13, 14, 15, 16, 17, 18, 19]\n",
      "tent_2  ->  [0]\n",
      "agrv2  ->  [-1, 1, 2, 3]\n",
      "tipo_del3  ->  [-1, 1, 2, 3, 4, 5, 6, 8, 9, 10, 13, 14, 15, 16, 19]\n",
      "tent_3  ->  [0, 1]\n",
      "agrav3  ->  [-1, 1, 2]\n"
     ]
    }
   ],
   "source": [
    "# Cargo la lista de los atributos que quiero seleccionar.\n",
    "blackList = set(['edad', 'otros_del', 'otros2', 'otr_del3'])\n",
    "attributesList = data.columns.values.tolist()\n",
    "selectList = [x for x in attributesList if x not in blackList]\n",
    "\n",
    "# Imprimo la categoria de cada uno de los atributos.\n",
    "PrintCategoriesOfAttributes(selectList)"
   ]
  },
  {
   "cell_type": "markdown",
   "metadata": {},
   "source": [
    "Luego de realizado dichos pasos, podemos comprobar que ningún atributo está por fuera del dominio."
   ]
  },
  {
   "cell_type": "markdown",
   "metadata": {},
   "source": [
    "En este punto termina el pre-procesmamiento de los datos. El procesamiento continúa en etapas posteriores."
   ]
  },
  {
   "cell_type": "markdown",
   "metadata": {},
   "source": [
    "#### 3.3.2. Pandas-profiling <a class=\"anchor\" id=\"3.3.3-bullet\"></a>"
   ]
  },
  {
   "cell_type": "markdown",
   "metadata": {},
   "source": [
    "La librería de ```pandas-profiling``` permite una rápida vista de los datos."
   ]
  },
  {
   "cell_type": "code",
   "execution_count": 665,
   "metadata": {},
   "outputs": [],
   "source": [
    "# Generar resumen y mostrar.\n",
    "#pandas_profiling.ProfileReport(training)"
   ]
  },
  {
   "cell_type": "markdown",
   "metadata": {},
   "source": [
    "<div style=\"text-align:center\"><img src=\"Voy_preso_o_no_analisis_dataset_penal2016_python_3.gif\" alt=\"drawing\" width=\"100%\" height=\"100%\"/></div><br/"
   ]
  },
  {
   "cell_type": "markdown",
   "metadata": {},
   "source": [
    "### 3.4. Tratamiento de los datos <a class=\"anchor\" id=\"3.4-bullet\"></a>\n",
    "\n",
    "En este punto se realizan las transformaciones de los datos que se adecuan a los modelos a utilizar."
   ]
  },
  {
   "cell_type": "markdown",
   "metadata": {},
   "source": [
    "#### 3.4.1. Sanitizar los datos <a class=\"anchor\" id=\"3.4.1-bullet\"></a>\n",
    "\n",
    "La sanitización de los datos se utiliza ya que pueden haber instancias que estén mal, en relación al tipo de dato. Este análisis es más a nivel de negocio que de dato, ya que el negocio implica reglas que los datos deben cumplir."
   ]
  },
  {
   "cell_type": "markdown",
   "metadata": {},
   "source": [
    "En este punto tenemos varias heurísticas. Algunas de las cuales, en general, son:\n",
    "\n",
    "- **Edad** $\\Rightarrow$ La edad usualmente es mayor a 0 y no superior a 100\n",
    "- **Años** $\\Rightarrow$ Los años usualmente son mayores 0 y menores que el año actual.\n",
    "- **Mes** $\\Rightarrow$ Los meses estan comprendidos entre 1 y 12.\n",
    "- **Dias** $\\Rightarrow$ Los dias usualmente son mayores a 0 y dependen del mes.\n",
    "- **Distancias** $\\Rightarrow$ Las distancias son mayores a 0.\n",
    "- **Precios** $\\Rightarrow$ Los precios son mayores a 0.\n",
    "- **Áreas** $\\Rightarrow$ Las áreas son mayores a 0."
   ]
  },
  {
   "cell_type": "markdown",
   "metadata": {},
   "source": [
    "En este caso, el único atributo numérico que tenemos es la edad. Analizaremos la edad a continuación."
   ]
  },
  {
   "cell_type": "markdown",
   "metadata": {},
   "source": [
    "Primeramente, la edad tiene que estar comprendida entre 0 y 100. Para esto utilizamos los métodos ```pd.dataframe.min()``` y ```pd.dataframe.max()``` respectivamente."
   ]
  },
  {
   "cell_type": "code",
   "execution_count": 666,
   "metadata": {},
   "outputs": [
    {
     "data": {
      "text/plain": [
       "1"
      ]
     },
     "execution_count": 666,
     "metadata": {},
     "output_type": "execute_result"
    }
   ],
   "source": [
    "# Visualizamos el minimo.\n",
    "data['edad'].min()"
   ]
  },
  {
   "cell_type": "code",
   "execution_count": 667,
   "metadata": {},
   "outputs": [
    {
     "data": {
      "text/plain": [
       "105"
      ]
     },
     "execution_count": 667,
     "metadata": {},
     "output_type": "execute_result"
    }
   ],
   "source": [
    "# Visualizamos el máximo.\n",
    "data['edad'].max()"
   ]
  },
  {
   "cell_type": "markdown",
   "metadata": {},
   "source": [
    "Tenemos al menos un ejemplo que tiene como valor 105. Podría ser un outlier, pero esto lo analizamos más adelante.\n",
    "\n",
    "En este caso vemos que la edad cumple con los requerimientos del negocio en general."
   ]
  },
  {
   "cell_type": "markdown",
   "metadata": {},
   "source": [
    "En esta sección también es importante chequear los datos duplicados. Para chequear los duplicados utilizamos la función ```pd.dataframe.duplicated```. En este caso no es ilógico que hayan duplicados, ya que el mismo delito lógicamente se tendría que aplicar la misma sentencia."
   ]
  },
  {
   "cell_type": "code",
   "execution_count": 668,
   "metadata": {},
   "outputs": [
    {
     "name": "stdout",
     "output_type": "stream",
     "text": [
      "540\n"
     ]
    }
   ],
   "source": [
    "# Chequear duplicados.\n",
    "\n",
    "# Unimos con la variable objetivo para que los cambios sean coherentes.\n",
    "data['tipo_proc'] = label.values\n",
    "\n",
    "# Chequeamos los duplicados.\n",
    "print(data.duplicated().sum())\n",
    "\n",
    "# Obtenemos la variable objetivo.\n",
    "label = data['tipo_proc']\n",
    "# Eliminamos la variable objetivo de los predictores para realizar las transformaciones solamente a los predictores.\n",
    "data.drop(['tipo_proc'], axis=1, inplace=True)"
   ]
  },
  {
   "cell_type": "markdown",
   "metadata": {},
   "source": [
    "Resulta raro que hayan tantos duplicados, visualizamos algunos valores duplicados."
   ]
  },
  {
   "cell_type": "code",
   "execution_count": 669,
   "metadata": {},
   "outputs": [
    {
     "data": {
      "text/html": [
       "<div>\n",
       "<style scoped>\n",
       "    .dataframe tbody tr th:only-of-type {\n",
       "        vertical-align: middle;\n",
       "    }\n",
       "\n",
       "    .dataframe tbody tr th {\n",
       "        vertical-align: top;\n",
       "    }\n",
       "\n",
       "    .dataframe thead th {\n",
       "        text-align: right;\n",
       "    }\n",
       "</style>\n",
       "<table border=\"1\" class=\"dataframe\">\n",
       "  <thead>\n",
       "    <tr style=\"text-align: right;\">\n",
       "      <th></th>\n",
       "      <th>turno</th>\n",
       "      <th>sexo</th>\n",
       "      <th>edad</th>\n",
       "      <th>ant</th>\n",
       "      <th>sit_esp</th>\n",
       "      <th>tipo_del</th>\n",
       "      <th>otros_del</th>\n",
       "      <th>tent</th>\n",
       "      <th>agrav</th>\n",
       "      <th>tipo_del2</th>\n",
       "      <th>otros2</th>\n",
       "      <th>tent_2</th>\n",
       "      <th>agrv2</th>\n",
       "      <th>tipo_del3</th>\n",
       "      <th>otr_del3</th>\n",
       "      <th>tent_3</th>\n",
       "      <th>agrav3</th>\n",
       "      <th>tipo_proc</th>\n",
       "    </tr>\n",
       "    <tr>\n",
       "      <th>id</th>\n",
       "      <th></th>\n",
       "      <th></th>\n",
       "      <th></th>\n",
       "      <th></th>\n",
       "      <th></th>\n",
       "      <th></th>\n",
       "      <th></th>\n",
       "      <th></th>\n",
       "      <th></th>\n",
       "      <th></th>\n",
       "      <th></th>\n",
       "      <th></th>\n",
       "      <th></th>\n",
       "      <th></th>\n",
       "      <th></th>\n",
       "      <th></th>\n",
       "      <th></th>\n",
       "      <th></th>\n",
       "    </tr>\n",
       "  </thead>\n",
       "  <tbody>\n",
       "    <tr>\n",
       "      <th>3438</th>\n",
       "      <td>10</td>\n",
       "      <td>1</td>\n",
       "      <td>26</td>\n",
       "      <td>1</td>\n",
       "      <td>-1</td>\n",
       "      <td>19</td>\n",
       "      <td>APROPIACION DE COSA PERDIDA</td>\n",
       "      <td>0</td>\n",
       "      <td>-1</td>\n",
       "      <td>-1</td>\n",
       "      <td>Sin dato</td>\n",
       "      <td>0</td>\n",
       "      <td>-1</td>\n",
       "      <td>-1</td>\n",
       "      <td>Sin dato</td>\n",
       "      <td>0</td>\n",
       "      <td>-1</td>\n",
       "      <td>2</td>\n",
       "    </tr>\n",
       "    <tr>\n",
       "      <th>1771</th>\n",
       "      <td>16</td>\n",
       "      <td>1</td>\n",
       "      <td>22</td>\n",
       "      <td>3</td>\n",
       "      <td>1</td>\n",
       "      <td>19</td>\n",
       "      <td>Sin dato</td>\n",
       "      <td>0</td>\n",
       "      <td>-1</td>\n",
       "      <td>-1</td>\n",
       "      <td>Sin dato</td>\n",
       "      <td>0</td>\n",
       "      <td>-1</td>\n",
       "      <td>-1</td>\n",
       "      <td>Sin dato</td>\n",
       "      <td>0</td>\n",
       "      <td>-1</td>\n",
       "      <td>3</td>\n",
       "    </tr>\n",
       "    <tr>\n",
       "      <th>659</th>\n",
       "      <td>13</td>\n",
       "      <td>1</td>\n",
       "      <td>21</td>\n",
       "      <td>2</td>\n",
       "      <td>1</td>\n",
       "      <td>20</td>\n",
       "      <td>Sin dato</td>\n",
       "      <td>0</td>\n",
       "      <td>-1</td>\n",
       "      <td>-1</td>\n",
       "      <td>Sin dato</td>\n",
       "      <td>0</td>\n",
       "      <td>-1</td>\n",
       "      <td>-1</td>\n",
       "      <td>Sin dato</td>\n",
       "      <td>0</td>\n",
       "      <td>-1</td>\n",
       "      <td>3</td>\n",
       "    </tr>\n",
       "    <tr>\n",
       "      <th>1751</th>\n",
       "      <td>7</td>\n",
       "      <td>1</td>\n",
       "      <td>29</td>\n",
       "      <td>3</td>\n",
       "      <td>1</td>\n",
       "      <td>20</td>\n",
       "      <td>Sin dato</td>\n",
       "      <td>0</td>\n",
       "      <td>-1</td>\n",
       "      <td>-1</td>\n",
       "      <td>Sin dato</td>\n",
       "      <td>0</td>\n",
       "      <td>-1</td>\n",
       "      <td>-1</td>\n",
       "      <td>Sin dato</td>\n",
       "      <td>0</td>\n",
       "      <td>-1</td>\n",
       "      <td>3</td>\n",
       "    </tr>\n",
       "    <tr>\n",
       "      <th>712</th>\n",
       "      <td>13</td>\n",
       "      <td>1</td>\n",
       "      <td>27</td>\n",
       "      <td>2</td>\n",
       "      <td>1</td>\n",
       "      <td>20</td>\n",
       "      <td>Sin dato</td>\n",
       "      <td>0</td>\n",
       "      <td>-1</td>\n",
       "      <td>-1</td>\n",
       "      <td>Sin dato</td>\n",
       "      <td>0</td>\n",
       "      <td>-1</td>\n",
       "      <td>-1</td>\n",
       "      <td>Sin dato</td>\n",
       "      <td>0</td>\n",
       "      <td>-1</td>\n",
       "      <td>3</td>\n",
       "    </tr>\n",
       "  </tbody>\n",
       "</table>\n",
       "</div>"
      ],
      "text/plain": [
       "     turno sexo  edad ant sit_esp tipo_del                    otros_del tent  \\\n",
       "id                                                                             \n",
       "3438    10    1    26   1      -1       19  APROPIACION DE COSA PERDIDA    0   \n",
       "1771    16    1    22   3       1       19                     Sin dato    0   \n",
       "659     13    1    21   2       1       20                     Sin dato    0   \n",
       "1751     7    1    29   3       1       20                     Sin dato    0   \n",
       "712     13    1    27   2       1       20                     Sin dato    0   \n",
       "\n",
       "     agrav tipo_del2    otros2 tent_2 agrv2 tipo_del3  otr_del3 tent_3 agrav3  \\\n",
       "id                                                                              \n",
       "3438    -1        -1  Sin dato      0    -1        -1  Sin dato      0     -1   \n",
       "1771    -1        -1  Sin dato      0    -1        -1  Sin dato      0     -1   \n",
       "659     -1        -1  Sin dato      0    -1        -1  Sin dato      0     -1   \n",
       "1751    -1        -1  Sin dato      0    -1        -1  Sin dato      0     -1   \n",
       "712     -1        -1  Sin dato      0    -1        -1  Sin dato      0     -1   \n",
       "\n",
       "      tipo_proc  \n",
       "id               \n",
       "3438          2  \n",
       "1771          3  \n",
       "659           3  \n",
       "1751          3  \n",
       "712           3  "
      ]
     },
     "execution_count": 669,
     "metadata": {},
     "output_type": "execute_result"
    }
   ],
   "source": [
    "# Visualizar valores duplicados.\n",
    "\n",
    "# Unimos con la variable objetivo para que los cambios sean coherentes.\n",
    "data['tipo_proc'] = label.values\n",
    "\n",
    "# Chequeamos los duplicados.\n",
    "data.loc[data.duplicated(),:].head()"
   ]
  },
  {
   "cell_type": "code",
   "execution_count": 670,
   "metadata": {},
   "outputs": [
    {
     "data": {
      "text/html": [
       "<div>\n",
       "<style scoped>\n",
       "    .dataframe tbody tr th:only-of-type {\n",
       "        vertical-align: middle;\n",
       "    }\n",
       "\n",
       "    .dataframe tbody tr th {\n",
       "        vertical-align: top;\n",
       "    }\n",
       "\n",
       "    .dataframe thead th {\n",
       "        text-align: right;\n",
       "    }\n",
       "</style>\n",
       "<table border=\"1\" class=\"dataframe\">\n",
       "  <thead>\n",
       "    <tr style=\"text-align: right;\">\n",
       "      <th></th>\n",
       "      <th>turno</th>\n",
       "      <th>sexo</th>\n",
       "      <th>edad</th>\n",
       "      <th>ant</th>\n",
       "      <th>sit_esp</th>\n",
       "      <th>tipo_del</th>\n",
       "      <th>otros_del</th>\n",
       "      <th>tent</th>\n",
       "      <th>agrav</th>\n",
       "      <th>tipo_del2</th>\n",
       "      <th>otros2</th>\n",
       "      <th>tent_2</th>\n",
       "      <th>agrv2</th>\n",
       "      <th>tipo_del3</th>\n",
       "      <th>otr_del3</th>\n",
       "      <th>tent_3</th>\n",
       "      <th>agrav3</th>\n",
       "      <th>tipo_proc</th>\n",
       "    </tr>\n",
       "    <tr>\n",
       "      <th>id</th>\n",
       "      <th></th>\n",
       "      <th></th>\n",
       "      <th></th>\n",
       "      <th></th>\n",
       "      <th></th>\n",
       "      <th></th>\n",
       "      <th></th>\n",
       "      <th></th>\n",
       "      <th></th>\n",
       "      <th></th>\n",
       "      <th></th>\n",
       "      <th></th>\n",
       "      <th></th>\n",
       "      <th></th>\n",
       "      <th></th>\n",
       "      <th></th>\n",
       "      <th></th>\n",
       "      <th></th>\n",
       "    </tr>\n",
       "  </thead>\n",
       "  <tbody>\n",
       "    <tr>\n",
       "      <th>3438</th>\n",
       "      <td>10</td>\n",
       "      <td>1</td>\n",
       "      <td>26</td>\n",
       "      <td>1</td>\n",
       "      <td>-1</td>\n",
       "      <td>19</td>\n",
       "      <td>APROPIACION DE COSA PERDIDA</td>\n",
       "      <td>0</td>\n",
       "      <td>-1</td>\n",
       "      <td>-1</td>\n",
       "      <td>Sin dato</td>\n",
       "      <td>0</td>\n",
       "      <td>-1</td>\n",
       "      <td>-1</td>\n",
       "      <td>Sin dato</td>\n",
       "      <td>0</td>\n",
       "      <td>-1</td>\n",
       "      <td>2</td>\n",
       "    </tr>\n",
       "    <tr>\n",
       "      <th>3438</th>\n",
       "      <td>10</td>\n",
       "      <td>1</td>\n",
       "      <td>26</td>\n",
       "      <td>1</td>\n",
       "      <td>-1</td>\n",
       "      <td>19</td>\n",
       "      <td>APROPIACION DE COSA PERDIDA</td>\n",
       "      <td>0</td>\n",
       "      <td>-1</td>\n",
       "      <td>-1</td>\n",
       "      <td>Sin dato</td>\n",
       "      <td>0</td>\n",
       "      <td>-1</td>\n",
       "      <td>-1</td>\n",
       "      <td>Sin dato</td>\n",
       "      <td>0</td>\n",
       "      <td>-1</td>\n",
       "      <td>2</td>\n",
       "    </tr>\n",
       "  </tbody>\n",
       "</table>\n",
       "</div>"
      ],
      "text/plain": [
       "     turno sexo  edad ant sit_esp tipo_del                    otros_del tent  \\\n",
       "id                                                                             \n",
       "3438    10    1    26   1      -1       19  APROPIACION DE COSA PERDIDA    0   \n",
       "3438    10    1    26   1      -1       19  APROPIACION DE COSA PERDIDA    0   \n",
       "\n",
       "     agrav tipo_del2    otros2 tent_2 agrv2 tipo_del3  otr_del3 tent_3 agrav3  \\\n",
       "id                                                                              \n",
       "3438    -1        -1  Sin dato      0    -1        -1  Sin dato      0     -1   \n",
       "3438    -1        -1  Sin dato      0    -1        -1  Sin dato      0     -1   \n",
       "\n",
       "      tipo_proc  \n",
       "id               \n",
       "3438          2  \n",
       "3438          2  "
      ]
     },
     "execution_count": 670,
     "metadata": {},
     "output_type": "execute_result"
    }
   ],
   "source": [
    "# Visualizamos una tupla repetida.\n",
    "data.loc[3438]"
   ]
  },
  {
   "cell_type": "markdown",
   "metadata": {},
   "source": [
    "En este punto podemos ver varios problemas. Un problema inicial es que esta tupla repetida debe tener datos diferentes según otro atributo que descartamos. Lo correcto hubiera sido eliminar los duplicados en dicho punto.\n",
    "\n",
    "Otro problema importante, es que el identificador *id* no es único como decía el negocio.\n",
    "\n",
    "En este punto tenemos que tomar una decisión. Para el primer problema, simplemente removemos todos los duplicados, si bien nos quedaremos con menos datos no impactaran doble en el modelo (una mejor solución es integrar los atributos que en un principio decidimos que no eran importantes).\n",
    "\n",
    "Para el segundo problema, la solución más trivial es eliminar dicho índice, eliminar la columna *id* (un falso índice) y crear uno nuevo. Esto lo tenemos que aplicar a todo el conjunto, tanto las variables independientes como la dependiente."
   ]
  },
  {
   "cell_type": "code",
   "execution_count": 671,
   "metadata": {},
   "outputs": [
    {
     "data": {
      "text/plain": [
       "turno        4337\n",
       "sexo         4337\n",
       "edad         4337\n",
       "ant          4337\n",
       "sit_esp      4337\n",
       "tipo_del     4337\n",
       "otros_del    4337\n",
       "tent         4337\n",
       "agrav        4337\n",
       "tipo_del2    4337\n",
       "otros2       4337\n",
       "tent_2       4337\n",
       "agrv2        4337\n",
       "tipo_del3    4337\n",
       "otr_del3     4337\n",
       "tent_3       4337\n",
       "agrav3       4337\n",
       "tipo_proc    4337\n",
       "dtype: int64"
      ]
     },
     "execution_count": 671,
     "metadata": {},
     "output_type": "execute_result"
    }
   ],
   "source": [
    "# Removemos los duplicados.\n",
    "data.drop_duplicates(inplace=True)\n",
    "\n",
    "# Contamos la cantidad de tuplas.\n",
    "data.count()"
   ]
  },
  {
   "cell_type": "code",
   "execution_count": 672,
   "metadata": {},
   "outputs": [
    {
     "data": {
      "text/html": [
       "<div>\n",
       "<style scoped>\n",
       "    .dataframe tbody tr th:only-of-type {\n",
       "        vertical-align: middle;\n",
       "    }\n",
       "\n",
       "    .dataframe tbody tr th {\n",
       "        vertical-align: top;\n",
       "    }\n",
       "\n",
       "    .dataframe thead th {\n",
       "        text-align: right;\n",
       "    }\n",
       "</style>\n",
       "<table border=\"1\" class=\"dataframe\">\n",
       "  <thead>\n",
       "    <tr style=\"text-align: right;\">\n",
       "      <th></th>\n",
       "      <th>turno</th>\n",
       "      <th>sexo</th>\n",
       "      <th>edad</th>\n",
       "      <th>ant</th>\n",
       "      <th>sit_esp</th>\n",
       "      <th>tipo_del</th>\n",
       "      <th>otros_del</th>\n",
       "      <th>tent</th>\n",
       "      <th>agrav</th>\n",
       "      <th>tipo_del2</th>\n",
       "      <th>otros2</th>\n",
       "      <th>tent_2</th>\n",
       "      <th>agrv2</th>\n",
       "      <th>tipo_del3</th>\n",
       "      <th>otr_del3</th>\n",
       "      <th>tent_3</th>\n",
       "      <th>agrav3</th>\n",
       "      <th>tipo_proc</th>\n",
       "    </tr>\n",
       "  </thead>\n",
       "  <tbody>\n",
       "    <tr>\n",
       "      <th>0</th>\n",
       "      <td>10</td>\n",
       "      <td>1</td>\n",
       "      <td>28</td>\n",
       "      <td>2</td>\n",
       "      <td>-1</td>\n",
       "      <td>19</td>\n",
       "      <td>APROPIACION DE COSA HABIDA POR ERROR O CASO FO...</td>\n",
       "      <td>0</td>\n",
       "      <td>-1</td>\n",
       "      <td>-1</td>\n",
       "      <td>Sin dato</td>\n",
       "      <td>0</td>\n",
       "      <td>-1</td>\n",
       "      <td>-1</td>\n",
       "      <td>Sin dato</td>\n",
       "      <td>0</td>\n",
       "      <td>-1</td>\n",
       "      <td>2</td>\n",
       "    </tr>\n",
       "    <tr>\n",
       "      <th>1</th>\n",
       "      <td>10</td>\n",
       "      <td>1</td>\n",
       "      <td>18</td>\n",
       "      <td>3</td>\n",
       "      <td>-1</td>\n",
       "      <td>20</td>\n",
       "      <td>APROPIACION DE COSA HABIDA POR ERROR O CASO FO...</td>\n",
       "      <td>0</td>\n",
       "      <td>-1</td>\n",
       "      <td>-1</td>\n",
       "      <td>Sin dato</td>\n",
       "      <td>0</td>\n",
       "      <td>-1</td>\n",
       "      <td>-1</td>\n",
       "      <td>Sin dato</td>\n",
       "      <td>0</td>\n",
       "      <td>-1</td>\n",
       "      <td>2</td>\n",
       "    </tr>\n",
       "    <tr>\n",
       "      <th>2</th>\n",
       "      <td>10</td>\n",
       "      <td>1</td>\n",
       "      <td>19</td>\n",
       "      <td>1</td>\n",
       "      <td>-1</td>\n",
       "      <td>19</td>\n",
       "      <td>APROPIACION DE COSA HABIDA POR ERROR O CASO FO...</td>\n",
       "      <td>0</td>\n",
       "      <td>-1</td>\n",
       "      <td>-1</td>\n",
       "      <td>Sin dato</td>\n",
       "      <td>0</td>\n",
       "      <td>-1</td>\n",
       "      <td>-1</td>\n",
       "      <td>Sin dato</td>\n",
       "      <td>0</td>\n",
       "      <td>-1</td>\n",
       "      <td>2</td>\n",
       "    </tr>\n",
       "    <tr>\n",
       "      <th>3</th>\n",
       "      <td>10</td>\n",
       "      <td>1</td>\n",
       "      <td>26</td>\n",
       "      <td>1</td>\n",
       "      <td>-1</td>\n",
       "      <td>19</td>\n",
       "      <td>APROPIACION DE COSA PERDIDA</td>\n",
       "      <td>0</td>\n",
       "      <td>-1</td>\n",
       "      <td>-1</td>\n",
       "      <td>Sin dato</td>\n",
       "      <td>0</td>\n",
       "      <td>-1</td>\n",
       "      <td>-1</td>\n",
       "      <td>Sin dato</td>\n",
       "      <td>0</td>\n",
       "      <td>-1</td>\n",
       "      <td>2</td>\n",
       "    </tr>\n",
       "    <tr>\n",
       "      <th>4</th>\n",
       "      <td>10</td>\n",
       "      <td>1</td>\n",
       "      <td>21</td>\n",
       "      <td>3</td>\n",
       "      <td>-1</td>\n",
       "      <td>19</td>\n",
       "      <td>DAÃ?O</td>\n",
       "      <td>0</td>\n",
       "      <td>2</td>\n",
       "      <td>-1</td>\n",
       "      <td>Sin dato</td>\n",
       "      <td>0</td>\n",
       "      <td>-1</td>\n",
       "      <td>-1</td>\n",
       "      <td>Sin dato</td>\n",
       "      <td>0</td>\n",
       "      <td>-1</td>\n",
       "      <td>3</td>\n",
       "    </tr>\n",
       "  </tbody>\n",
       "</table>\n",
       "</div>"
      ],
      "text/plain": [
       "  turno sexo  edad ant sit_esp tipo_del  \\\n",
       "0    10    1    28   2      -1       19   \n",
       "1    10    1    18   3      -1       20   \n",
       "2    10    1    19   1      -1       19   \n",
       "3    10    1    26   1      -1       19   \n",
       "4    10    1    21   3      -1       19   \n",
       "\n",
       "                                           otros_del tent agrav tipo_del2  \\\n",
       "0  APROPIACION DE COSA HABIDA POR ERROR O CASO FO...    0    -1        -1   \n",
       "1  APROPIACION DE COSA HABIDA POR ERROR O CASO FO...    0    -1        -1   \n",
       "2  APROPIACION DE COSA HABIDA POR ERROR O CASO FO...    0    -1        -1   \n",
       "3                        APROPIACION DE COSA PERDIDA    0    -1        -1   \n",
       "4                                              DAÃ?O    0     2        -1   \n",
       "\n",
       "     otros2 tent_2 agrv2 tipo_del3  otr_del3 tent_3 agrav3  tipo_proc  \n",
       "0  Sin dato      0    -1        -1  Sin dato      0     -1          2  \n",
       "1  Sin dato      0    -1        -1  Sin dato      0     -1          2  \n",
       "2  Sin dato      0    -1        -1  Sin dato      0     -1          2  \n",
       "3  Sin dato      0    -1        -1  Sin dato      0     -1          2  \n",
       "4  Sin dato      0    -1        -1  Sin dato      0     -1          3  "
      ]
     },
     "execution_count": 672,
     "metadata": {},
     "output_type": "execute_result"
    }
   ],
   "source": [
    "# Remplazamos el indice y eliminamos el anterior.\n",
    "data.reset_index(inplace=True, drop=True)\n",
    "\n",
    "# Visualizamos el conjunto.\n",
    "data.head()"
   ]
  },
  {
   "cell_type": "code",
   "execution_count": 673,
   "metadata": {},
   "outputs": [],
   "source": [
    "# Obtenemos la variable objetivo.\n",
    "label = data['tipo_proc']\n",
    "# Eliminamos la variable objetivo de los predictores para realizar las transformaciones solamente a los predictores.\n",
    "data.drop(['tipo_proc'], axis=1, inplace=True)"
   ]
  },
  {
   "cell_type": "markdown",
   "metadata": {},
   "source": [
    "Un problema importante de los datos es la variabilidad de los mismos. Si los datos de los atributos no varían no nos aportan información, por lo que es conveniente que los atributos que no varían sean eliminados.\n",
    "\n",
    "Esto lo podemos ver mediante la varianza. Para obtener la varianza, con pandas utilizamos el método ```pd.dataframe.var()```"
   ]
  },
  {
   "cell_type": "code",
   "execution_count": 674,
   "metadata": {},
   "outputs": [
    {
     "data": {
      "text/plain": [
       "turno         33.222339\n",
       "sexo           0.092831\n",
       "edad         128.937018\n",
       "ant            0.471503\n",
       "sit_esp       11.481333\n",
       "tipo_del      40.887182\n",
       "tent           0.163137\n",
       "agrav          2.040906\n",
       "tipo_del2     22.294463\n",
       "tent_2         0.000000\n",
       "agrv2          0.474851\n",
       "tipo_del3      5.147571\n",
       "tent_3         0.004591\n",
       "agrav3         0.117665\n",
       "dtype: float64"
      ]
     },
     "execution_count": 674,
     "metadata": {},
     "output_type": "execute_result"
    }
   ],
   "source": [
    "# Obtenemos la varianza de los datos.\n",
    "data.var(axis=0)"
   ]
  },
  {
   "cell_type": "markdown",
   "metadata": {},
   "source": [
    "Como podemos ver, hay atributos que tienen una poca varianza, como lo son: *tent*, *tent_2*, *tent_3*, *sexo* y *agrav3*.\n",
    "\n",
    "Podemos ver gráficas para ver como son dichos atributos."
   ]
  },
  {
   "cell_type": "code",
   "execution_count": 675,
   "metadata": {},
   "outputs": [
    {
     "data": {
      "text/plain": [
       "Text(0.5,1,'Histograma Atributo *tent*')"
      ]
     },
     "execution_count": 675,
     "metadata": {},
     "output_type": "execute_result"
    },
    {
     "data": {
      "image/png": "[encoded data removed]",
      "text/plain": [
       "<Figure size 432x288 with 1 Axes>"
      ]
     },
     "metadata": {},
     "output_type": "display_data"
    }
   ],
   "source": [
    "# Grafico el atributo *tent*\n",
    "sns.distplot(data['tent'], hist=False, color=\"g\", kde_kws={\"shade\": True}).set_title('Histograma Atributo *tent*')"
   ]
  },
  {
   "cell_type": "code",
   "execution_count": 676,
   "metadata": {},
   "outputs": [
    {
     "data": {
      "text/plain": [
       "Text(0.5,1,'Histograma Atributo *tent_3*')"
      ]
     },
     "execution_count": 676,
     "metadata": {},
     "output_type": "execute_result"
    },
    {
     "data": {
      "image/png": "[encoded data removed]",
      "text/plain": [
       "<Figure size 432x288 with 1 Axes>"
      ]
     },
     "metadata": {},
     "output_type": "display_data"
    }
   ],
   "source": [
    "# Grafico el atributo *tent_3*\n",
    "sns.distplot(data['tent_3'], hist=False, color=\"g\", kde_kws={\"shade\": True}).set_title('Histograma Atributo *tent_3*')"
   ]
  },
  {
   "cell_type": "code",
   "execution_count": 677,
   "metadata": {},
   "outputs": [
    {
     "data": {
      "text/plain": [
       "Text(0.5,1,'Histograma Atributo *sexo*')"
      ]
     },
     "execution_count": 677,
     "metadata": {},
     "output_type": "execute_result"
    },
    {
     "data": {
      "image/png": "[encoded data removed]",
      "text/plain": [
       "<Figure size 432x288 with 1 Axes>"
      ]
     },
     "metadata": {},
     "output_type": "display_data"
    }
   ],
   "source": [
    "# Grafico el atributo *sexo*\n",
    "sns.distplot(data['sexo'], hist=False, color=\"g\", kde_kws={\"shade\": True}).set_title('Histograma Atributo *sexo*')"
   ]
  },
  {
   "cell_type": "code",
   "execution_count": 678,
   "metadata": {},
   "outputs": [
    {
     "data": {
      "text/plain": [
       "Text(0.5,1,'Histograma Atributo *agrav3*')"
      ]
     },
     "execution_count": 678,
     "metadata": {},
     "output_type": "execute_result"
    },
    {
     "data": {
      "image/png": "[encoded data removed]",
      "text/plain": [
       "<Figure size 432x288 with 1 Axes>"
      ]
     },
     "metadata": {},
     "output_type": "display_data"
    }
   ],
   "source": [
    "# Grafico el atributo *agrav3*\n",
    "sns.distplot(data['agrav3'], hist=False, color=\"g\", kde_kws={\"shade\": True}).set_title('Histograma Atributo *agrav3*')"
   ]
  },
  {
   "cell_type": "markdown",
   "metadata": {},
   "source": [
    "Como podemos ver, los atributos tienen poca varianza. Esto puede ocacionar un problema más adelante, pero no podemos eliminarlos ya que no tenemos muchos otros predictores.\n",
    "\n",
    "El predictor que si se tiene que eliminar es *tent_2* ya que no aporta información."
   ]
  },
  {
   "cell_type": "code",
   "execution_count": 679,
   "metadata": {},
   "outputs": [],
   "source": [
    "# Eliminamos el atributo tent_2\n",
    "data.drop(['tent_2'], axis=1, inplace=True)"
   ]
  },
  {
   "cell_type": "markdown",
   "metadata": {},
   "source": [
    "El atrributo *tent_3* vemos que tiene casi el mismo problema, tiene una varianza muy baja, por lo que no nos aporta información."
   ]
  },
  {
   "cell_type": "code",
   "execution_count": 680,
   "metadata": {},
   "outputs": [
    {
     "name": "stdout",
     "output_type": "stream",
     "text": [
      "Porcentaje de clase 1: 99.5 %\n",
      "Porcentaje de clase 2: 0.5 %\n"
     ]
    }
   ],
   "source": [
    "# Distribución de los atributos.\n",
    "print('Porcentaje de clase 1:', round(data.loc[data['tent_3'] == 0, 'tent_3'].count()/data['tent_3'].count(), 3) * 100, '%')\n",
    "print('Porcentaje de clase 2:', round(data.loc[data['tent_3'] == 1, 'tent_3'].count()/data['tent_3'].count(), 3) * 100, '%')"
   ]
  },
  {
   "cell_type": "markdown",
   "metadata": {},
   "source": [
    "Por lo que también lo eliminamos."
   ]
  },
  {
   "cell_type": "code",
   "execution_count": 681,
   "metadata": {},
   "outputs": [],
   "source": [
    "# Eliminamos el atributo tent_3\n",
    "data.drop(['tent_3'], axis=1, inplace=True)"
   ]
  },
  {
   "cell_type": "markdown",
   "metadata": {},
   "source": [
    "Luego de la sanitización de los datos, tenemos los siguientes atributos."
   ]
  },
  {
   "cell_type": "code",
   "execution_count": 682,
   "metadata": {},
   "outputs": [
    {
     "data": {
      "text/plain": [
       "Index(['turno', 'sexo', 'edad', 'ant', 'sit_esp', 'tipo_del', 'otros_del',\n",
       "       'tent', 'agrav', 'tipo_del2', 'otros2', 'agrv2', 'tipo_del3',\n",
       "       'otr_del3', 'agrav3'],\n",
       "      dtype='object')"
      ]
     },
     "execution_count": 682,
     "metadata": {},
     "output_type": "execute_result"
    }
   ],
   "source": [
    "# Mostrar los atributos.\n",
    "data.keys()"
   ]
  },
  {
   "cell_type": "markdown",
   "metadata": {},
   "source": [
    "Todavía no nos hemos enfocado en la variable dependiente. Como pudimos ver anteriormente, tenemos un problema con la variable dependiente. El objetivo es predecir si se irá preso o no, pero la variable dependiente tiene tres clases."
   ]
  },
  {
   "cell_type": "code",
   "execution_count": 683,
   "metadata": {},
   "outputs": [
    {
     "data": {
      "text/plain": [
       "array([2, 3, 1], dtype=int64)"
      ]
     },
     "execution_count": 683,
     "metadata": {},
     "output_type": "execute_result"
    }
   ],
   "source": [
    "# Clases de la variable dependiente.\n",
    "label.unique()"
   ]
  },
  {
   "cell_type": "code",
   "execution_count": 684,
   "metadata": {},
   "outputs": [
    {
     "data": {
      "text/plain": [
       "1    0.669818\n",
       "2    0.293060\n",
       "3    0.037122\n",
       "Name: tipo_proc, dtype: float64"
      ]
     },
     "execution_count": 684,
     "metadata": {},
     "output_type": "execute_result"
    }
   ],
   "source": [
    "# Proporcion de cada clase.\n",
    "label.value_counts(normalize=True)"
   ]
  },
  {
   "cell_type": "code",
   "execution_count": 685,
   "metadata": {},
   "outputs": [
    {
     "data": {
      "text/plain": [
       "Index(['turno', 'sexo', 'edad', 'ant', 'sit_esp', 'tipo_del', 'otros_del',\n",
       "       'tent', 'agrav', 'tipo_del2', 'otros2', 'agrv2', 'tipo_del3',\n",
       "       'otr_del3', 'agrav3'],\n",
       "      dtype='object')"
      ]
     },
     "execution_count": 685,
     "metadata": {},
     "output_type": "execute_result"
    }
   ],
   "source": [
    "data.columns"
   ]
  },
  {
   "cell_type": "markdown",
   "metadata": {},
   "source": [
    "Podemos ver que son muy pocas las tuplas que tiene la clase \"No corresponde\". Desde el negocio, la clase \"No corresponde\" podría significar que el individuo no fue preso, por lo que podemos imputar dicho valor a la clase \"No corresponde\"."
   ]
  },
  {
   "cell_type": "code",
   "execution_count": 686,
   "metadata": {},
   "outputs": [],
   "source": [
    "# Eliminamos la clase No Corresponde imputando la clase que no fue preso (2)\n",
    "label = label.replace(3, 2)"
   ]
  },
  {
   "cell_type": "code",
   "execution_count": 687,
   "metadata": {},
   "outputs": [
    {
     "data": {
      "text/plain": [
       "array([2, 1], dtype=int64)"
      ]
     },
     "execution_count": 687,
     "metadata": {},
     "output_type": "execute_result"
    }
   ],
   "source": [
    "# Chequeamos que se haya eliminado la clase.\n",
    "label.unique()"
   ]
  },
  {
   "cell_type": "markdown",
   "metadata": {},
   "source": [
    "#### 3.4.2. Tratamiento datos faltantes <a class=\"anchor\" id=\"3.4.2-bullet\"></a>\n",
    "\n",
    "Los datos faltantes son inadmitibles para muchos modelos. El tratamiento de los datos faltantes implica imputar un valor, eliminar dichos datos o eliminar el atributo."
   ]
  },
  {
   "cell_type": "markdown",
   "metadata": {},
   "source": [
    "En este caso, dado que el negocio es el que nos especifica cuales son los datos faltantes, debemos primero declarar dichos datos como faltantes.\n",
    "\n",
    "Primero obtenemos los datos faltantes según fueron declarados en el negocio."
   ]
  },
  {
   "cell_type": "code",
   "execution_count": 696,
   "metadata": {},
   "outputs": [],
   "source": [
    "# Creo función que imprime los atributos sin datos.\n",
    "def ImprimirSinDatos(att):\n",
    "    for x in att:\n",
    "        if (data.loc[data[x] == -1, x].count() > 0):\n",
    "            print(x, ' -> ', data.loc[data[x] == -1, x].count(), ' --- ', round(data.loc[data[x] == -1, x].count()/data[x].count() * 100, 3), '%')\n",
    "        elif (data.loc[data[x].map(str) == 'Sin datos', x].count() > 0):\n",
    "            print(x, ' -> ', data.loc[data[x].map(str) == 'Sin datos', x].count(), ' --- ', round(data.loc[data[x] == 'Sin datos', x].count()/data[x].count() * 100, 3), '%')\n",
    "        elif (data.loc[data[x].map(str) == 'Sin dato', x].count() > 0):\n",
    "              print(x, ' -> ', data.loc[data[x].map(str) == 'Sin dato', x].count(), ' --- ', round(data.loc[data[x] == 'Sin dato', x].count()/data[x].count() * 100, 3), '%')\n",
    "        else:\n",
    "            print(x, ' -> ', 0)"
   ]
  },
  {
   "cell_type": "code",
   "execution_count": 697,
   "metadata": {},
   "outputs": [
    {
     "name": "stdout",
     "output_type": "stream",
     "text": [
      "turno  ->  0\n",
      "sexo  ->  0\n",
      "ant  ->  0\n",
      "sit_esp  ->  1906  ---  43.947 %\n",
      "tipo_del  ->  0\n",
      "otros_del  ->  3883  ---  89.532 %\n",
      "tent  ->  0\n",
      "agrav  ->  2701  ---  62.278 %\n",
      "tipo_del2  ->  3490  ---  80.47 %\n",
      "otros2  ->  4139  ---  95.435 %\n",
      "agrv2  ->  4075  ---  93.959 %\n",
      "tipo_del3  ->  4144  ---  95.55 %\n",
      "otr_del3  ->  4290  ---  98.916 %\n",
      "agrav3  ->  4270  ---  98.455 %\n"
     ]
    }
   ],
   "source": [
    "# Cargo la lista de los atributos que quiero seleccionar.\n",
    "blackList = set(['edad'])\n",
    "attributesList = data.columns.values.tolist()\n",
    "selectList = [x for x in attributesList if x not in blackList]\n",
    "\n",
    "# Imprimo la lista de los atributos y sus datos faltantes.\n",
    "ImprimirSinDatos(selectList)"
   ]
  },
  {
   "cell_type": "markdown",
   "metadata": {},
   "source": [
    "En este sentido tenemos otro gran problema. Muchos atributos tienen muchos datos faltantes."
   ]
  },
  {
   "cell_type": "markdown",
   "metadata": {},
   "source": [
    "Primeramente declaramos los atributos faltantes como el tipo de dato ```np.NaN``` mediante el comando ```np.dataframe.replace()```."
   ]
  },
  {
   "cell_type": "code",
   "execution_count": 643,
   "metadata": {},
   "outputs": [],
   "source": [
    "# Remplazo los -1.\n",
    "data.replace(-1, np.NaN, inplace=True)\n",
    "\n",
    "# Remplazo los \"sin datos\".\n",
    "data.replace('Sin datos', np.NaN, inplace=True)"
   ]
  },
  {
   "cell_type": "markdown",
   "metadata": {},
   "source": [
    "Una vez que ya estan declarados como faltantes, podemos utilizar los métodos de pandas para verlos."
   ]
  },
  {
   "cell_type": "code",
   "execution_count": 644,
   "metadata": {},
   "outputs": [
    {
     "data": {
      "text/plain": [
       "turno           0\n",
       "sexo            0\n",
       "edad            0\n",
       "ant             0\n",
       "sit_esp      1906\n",
       "tipo_del        0\n",
       "otros_del       0\n",
       "tent            0\n",
       "agrav        2701\n",
       "tipo_del2    3490\n",
       "otros2          0\n",
       "agrv2        4075\n",
       "tipo_del3    4144\n",
       "otr_del3        0\n",
       "agrav3       4270\n",
       "dtype: int64"
      ]
     },
     "execution_count": 644,
     "metadata": {},
     "output_type": "execute_result"
    }
   ],
   "source": [
    "# Chequeo los faltantes.\n",
    "data.isnull().sum()"
   ]
  },
  {
   "cell_type": "markdown",
   "metadata": {},
   "source": [
    "El primer atributo a tratar es *sit_esp*. Este atribtuto indica la \"Situación especial\", tomando los siguientes valores:\n",
    "\n",
    "- 1: Cúmulo o unificación de sentencias.\n",
    "- 2: Ley de prensa u otros procesos por audiencia.\n",
    "- 3: Extradición (se refiere al expediente que tramita la extradición de un sujeto y no al exhorto o solicitud administrativa de extradición).\n",
    "- 4: Autor ininputable mayor de edad.\n",
    "- 5: Acción de amparo.\n",
    "- 6: No corresponde (cuando no corresponde a ninguno de los casos que fueron codificados anteriormente)."
   ]
  },
  {
   "cell_type": "markdown",
   "metadata": {},
   "source": [
    "Podemos ver que cual es el caso más frecuente utilizando la moda. Para esto utilizamos ```pd.dataframe.mode()```."
   ]
  },
  {
   "cell_type": "code",
   "execution_count": 645,
   "metadata": {},
   "outputs": [
    {
     "data": {
      "text/plain": [
       "0    6\n",
       "Name: sit_esp, dtype: category\n",
       "Categories (6, int64): [-1, 1, 3, 4, 5, 6]"
      ]
     },
     "execution_count": 645,
     "metadata": {},
     "output_type": "execute_result"
    }
   ],
   "source": [
    "# Cheuqeo el valor más frecuente.\n",
    "data['sit_esp'].mode()"
   ]
  },
  {
   "cell_type": "markdown",
   "metadata": {},
   "source": [
    "La clase más frecuente es la 6. Si queremos imputar este valor en los faltantes, primero tenemos que ver la relación de esta variable con la variable objetivo. Para esto, realizamos un scatter plot."
   ]
  },
  {
   "cell_type": "code",
   "execution_count": 646,
   "metadata": {},
   "outputs": [
    {
     "data": {
      "text/plain": [
       "Text(0.5,1,'Scatterplot tipo_proc vs sit_esp')"
      ]
     },
     "execution_count": 646,
     "metadata": {},
     "output_type": "execute_result"
    },
    {
     "data": {
      "image/png": "[encoded data removed]",
      "text/plain": [
       "<Figure size 432x288 with 1 Axes>"
      ]
     },
     "metadata": {},
     "output_type": "display_data"
    }
   ],
   "source": [
    "# Grafico los valores.\n",
    "sns.scatterplot(x=data['sit_esp'], y=label).set_title('Scatterplot tipo_proc vs sit_esp')"
   ]
  },
  {
   "cell_type": "code",
   "execution_count": 647,
   "metadata": {},
   "outputs": [
    {
     "data": {
      "text/plain": [
       "1    0.671115\n",
       "2    0.328885\n",
       "Name: tipo_proc, dtype: float64"
      ]
     },
     "execution_count": 647,
     "metadata": {},
     "output_type": "execute_result"
    }
   ],
   "source": [
    "# Ver la proporción con respecto a la salida de la clase 6.\n",
    "dataAux = data\n",
    "dataAux['tipo_proc'] = label\n",
    "dataAux.loc[(dataAux['sit_esp'] == 6), ['tipo_proc']]['tipo_proc'].value_counts(normalize=True)"
   ]
  },
  {
   "cell_type": "markdown",
   "metadata": {},
   "source": [
    "Como podemos ver hay un sesgo respecto a la clase 6, el 67% va a prisión si la clase es \"No corresponde\". Aunque no podemos eliminar la clase, ya que sabemos que si la clase es una \"Acción de amparo\", el 100% va preso. Lo que haremos será imputar el valor de la moda para no perder esta información, aunque esto afecte los datos."
   ]
  },
  {
   "cell_type": "code",
   "execution_count": 319,
   "metadata": {},
   "outputs": [],
   "source": [
    "# Ver la proporción si se imputa los valores faltantes con la clase 6.\n",
    "data['sit_esp'].fillna(6, inplace=True)"
   ]
  },
  {
   "cell_type": "markdown",
   "metadata": {},
   "source": [
    "Los atributos *agrav*, *tipo_del2*, *agrv2*, *tipo_del3*, *agrav3* todos tienen un álto índice de faltantes. Estos atributos, juntos con los atributos *otros_del*, *otros2* y *otr_del3* nos aportan información pero tiene el problema de la cantidad de faltantes. Una posible solución es intentar combinarlos de alguna forma, para así reducir la cantidad de faltantes."
   ]
  },
  {
   "cell_type": "code",
   "execution_count": 699,
   "metadata": {},
   "outputs": [],
   "source": [
    "dataFull = data\n",
    "data.drop(['agrav', 'tipo_del2', 'agrv2', 'tipo_del3', 'agrav3'], axis=1, inplace=True)"
   ]
  },
  {
   "cell_type": "markdown",
   "metadata": {},
   "source": [
    "#### 3.4.3. Tratamiento de outliers <a class=\"anchor\" id=\"3.4.3-bullet\"></a>\n",
    "\n",
    "Hay muchos modelos en los cuales los outliers reducen la performance o inducen un sesgo indeseado. Por eso, se debe detectar y tratar los outliers para evitar este tipo de problemas."
   ]
  },
  {
   "cell_type": "markdown",
   "metadata": {},
   "source": [
    "#### 3.4.4. Correlación de atributos <a class=\"anchor\" id=\"3.4.4-bullet\"></a>\n",
    "\n",
    "Hay muchos (como los modelos lineales) que la correlación de los atributos influye fuertemente en los modelos. Es por esto, que muchas veces se debe chequear la correlación de los atributos para así eliminar los que están altamente correlacionados."
   ]
  },
  {
   "cell_type": "markdown",
   "metadata": {},
   "source": [
    "#### 3.4.5. Feature extraction <a class=\"anchor\" id=\"3.4.5-bullet\"></a>\n",
    "\n",
    "Muchas veces se puede \"diseñar\" un atributo que es combinación de otros atributos (lineal o no lineal) para así obtener más información. Tal vez, este atrubto generado es un mejor predictor y se mejora la solución."
   ]
  },
  {
   "cell_type": "markdown",
   "metadata": {},
   "source": [
    "#### 3.4.6. Transofrmaciones de los datos <a class=\"anchor\" id=\"3.4.6-bullet\"></a>\n",
    "\n",
    "En este punto se realizan las transofrmaciones necesarias de los datos. Las transformaciones incluyen desde transformaciones para reducir el sesgo o ajustar distribuciones de los datos hasta transformar los datos a valores numericos o a valores categóricos. También en este punto se incluye la estandarización y normalización si se debe hacer."
   ]
  },
  {
   "cell_type": "markdown",
   "metadata": {},
   "source": [
    "#### 3.4.7. Dimension reduction <a class=\"anchor\" id=\"3.4.7-bullet\"></a>\n",
    "\n",
    "Si las dimensiones son muy grantes, podemos aplicar técnicas que reduzcan la dimensionalidad de los atributos."
   ]
  },
  {
   "cell_type": "markdown",
   "metadata": {},
   "source": [
    "## 4. Modelado <a class=\"anchor\" id=\"4-bullet\"></a>\n",
    "---\n",
    "\n",
    "En esta sección probamos varios modelos de machine learning. Utilizamos la librería **sklearn**.\n",
    "\n",
    "Utilizaremos los siguientes modelos:\n",
    "- ```sklearn.linear_model.LinearRegression``` $\\Rightarrow$ http://scikit-learn.org/stable/modules/generated/sklearn.linear_model.LinearRegression.html\n",
    "- ```sklearn.linear_model.LassoCV``` $\\Rightarrow$ http://scikit-learn.org/stable/modules/generated/sklearn.linear_model.LassoCV.html"
   ]
  },
  {
   "cell_type": "code",
   "execution_count": null,
   "metadata": {},
   "outputs": [],
   "source": [
    "# Modelos a utilizar:\n",
    "from sklearn.linear_model import LinearRegression\n",
    "from sklearn.linear_model import LassoCV"
   ]
  },
  {
   "cell_type": "markdown",
   "metadata": {},
   "source": [
    "Y para chequear la performance de nuestros modelos utilizamos:\n",
    "* ```sklearn.metrics.make_scorer``` $\\Rightarrow$ http://scikit-learn.org/stable/modules/generated/sklearn.metrics.make_scorer.html\n",
    "* ```sklearn.metrics.accuracy_score``` $\\Rightarrow$ http://scikit-learn.org/stable/modules/generated/sklearn.metrics.accuracy_score.html\n",
    "* ```sklearn.model_selection.cross_val_score``` $\\Rightarrow$ http://scikit-learn.org/stable/modules/generated/sklearn.model_selection.cross_val_score.html"
   ]
  },
  {
   "cell_type": "code",
   "execution_count": null,
   "metadata": {},
   "outputs": [],
   "source": [
    "from sklearn.metrics import make_scorer, accuracy_score\n",
    "from sklearn.model_selection import cross_val_score"
   ]
  },
  {
   "cell_type": "markdown",
   "metadata": {},
   "source": [
    "Utilizaremos ```sklearn.model_selection.GridSearchCV``` (http://scikit-learn.org/stable/modules/generated/sklearn.model_selection.GridSearchCV.html) para la optimización del modelo basado en fuerza bruta o ```sklearn-deap.evolutionary_search.EvolutionaryAlgorithmSearchCV``` (https://github.com/rsteca/sklearn-deap) para la optimización del modelo basado en algoritmos evolutivos."
   ]
  },
  {
   "cell_type": "code",
   "execution_count": null,
   "metadata": {},
   "outputs": [],
   "source": [
    "from sklearn.model_selection import GridSearchCV\n",
    "from evolutionary_search import EvolutionaryAlgorithmSearchCV"
   ]
  },
  {
   "cell_type": "markdown",
   "metadata": {},
   "source": [
    "Utilizaremos ```sklearn.feature_selection.SelectFromModel``` (http://scikit-learn.org/stable/modules/generated/sklearn.feature_selection.SelectFromModel.html#sklearn.feature_selection.SelectFromModel) para la optimización de los parámetros."
   ]
  },
  {
   "cell_type": "code",
   "execution_count": null,
   "metadata": {},
   "outputs": [],
   "source": [
    "from sklearn.feature_selection import SelectFromModel"
   ]
  },
  {
   "cell_type": "markdown",
   "metadata": {},
   "source": [
    "### 4.1. Preparación del modelado <a class=\"anchor\" id=\"4.1-bullet\"></a>\n",
    "\n",
    "Los conjuntos a utilizar en el modelado son:"
   ]
  },
  {
   "cell_type": "code",
   "execution_count": null,
   "metadata": {},
   "outputs": [],
   "source": [
    "print('X_test:', len(X_test))\n",
    "print('X_train:', len(X_train))\n",
    "print('y_train:', len(y_train))"
   ]
  },
  {
   "cell_type": "markdown",
   "metadata": {},
   "source": [
    "### 4.2. Entrenamiento de los modelos <a class=\"anchor\" id=\"4.2-bullet\"></a>\n",
    "\n",
    "En esta sección se entrenan los modelos especificados anteriormente para ver cuál es el que realiza la mejor predicción."
   ]
  },
  {
   "cell_type": "markdown",
   "metadata": {},
   "source": [
    "#### 4.2.1. Linear Regression <a class=\"anchor\" id=\"4.2.1-bullet\"></a> "
   ]
  },
  {
   "cell_type": "code",
   "execution_count": null,
   "metadata": {},
   "outputs": [],
   "source": [
    "# Cargamos el modelo.\n",
    "linreg_clf = LinearRegression()\n",
    "\n",
    "# Entrenamos el modelo.\n",
    "linreg_clf.fit(X_train, y_train)\n",
    "\n",
    "# Validación cruzada.\n",
    "acc_linreg = cross_val_score(linreg_clf, X_train, y_train, cv=10).mean()\n",
    "print(acc_linreg)"
   ]
  },
  {
   "cell_type": "markdown",
   "metadata": {},
   "source": [
    "#### 4.2.2. Linear Regression, L1 Regularisation <a class=\"anchor\" id=\"4.2.2-bullet\"></a> "
   ]
  },
  {
   "cell_type": "code",
   "execution_count": null,
   "metadata": {},
   "outputs": [],
   "source": [
    "# Cargamos el modelo.\n",
    "linl1_clf = LassoCV()\n",
    "\n",
    "# Entrenamos el modelo.\n",
    "linl1_clf.fit(X_train, y_train)\n",
    "\n",
    "# Validación cruzada.\n",
    "acc_linl1 = cross_val_score(linl1_clf, X_train, y_train, cv=10).mean()\n",
    "print(acc_linl1)"
   ]
  },
  {
   "cell_type": "markdown",
   "metadata": {},
   "source": [
    "### 4.3. Comparación de modelos <a class=\"anchor\" id=\"4.3-bullet\"></a>\n",
    "\n",
    "Una vez que tenemos las precisiones de los modelos, podemos comparar las performance de los modelos."
   ]
  },
  {
   "cell_type": "code",
   "execution_count": null,
   "metadata": {},
   "outputs": [],
   "source": [
    "# Creamos un dataframe para mostrar los datos.\n",
    "model_performance = pd.DataFrame({\n",
    "    \"Model\": [\"Linear Regression\", \"Linear Regression L1\"],\n",
    "    \"Accuracy\": [acc_linreg, acc_linl1]\n",
    "})\n",
    "\n",
    "# Ordenamos de mayor a menor.\n",
    "model_performance.sort_values(by=\"Accuracy\", ascending=False)"
   ]
  },
  {
   "cell_type": "markdown",
   "metadata": {},
   "source": [
    "### 4.4. Feature selection <a class=\"anchor\" id=\"4.4-bullet\"></a>\n",
    "\n",
    "Una vez que tenemos el modelo que nos de la mejor predición, realizamos la selección de atributos utilizando algoritmos evolutivos para observar si se mejora en la predicción o no. En si, esto se debería realizar para cada algoritmo, y luego compararlos, pero consume mucho tiempo este tipo de procesos."
   ]
  },
  {
   "cell_type": "markdown",
   "metadata": {},
   "source": [
    "### 4.5. Optimización <a class=\"anchor\" id=\"4.5-bullet\"></a>\n",
    "\n",
    "En esta sección se optimiza el modelo para utilizarlo en la puesta a producción."
   ]
  },
  {
   "cell_type": "markdown",
   "metadata": {},
   "source": [
    "## 5. Evaluación <a class=\"anchor\" id=\"5-bullet\"></a>\n",
    "---"
   ]
  },
  {
   "cell_type": "markdown",
   "metadata": {},
   "source": [
    "## 6. Puesta en producción <a class=\"anchor\" id=\"6-bullet\"></a>\n",
    "---"
   ]
  }
 ],
 "metadata": {
  "kernelspec": {
   "display_name": "Python 3",
   "language": "python",
   "name": "python3"
  },
  "language_info": {
   "codemirror_mode": {
    "name": "ipython",
    "version": 3
   },
   "file_extension": ".py",
   "mimetype": "text/x-python",
   "name": "python",
   "nbconvert_exporter": "python",
   "pygments_lexer": "ipython3",
   "version": "3.6.6"
  }
 },
 "nbformat": 4,
 "nbformat_minor": 2
}
