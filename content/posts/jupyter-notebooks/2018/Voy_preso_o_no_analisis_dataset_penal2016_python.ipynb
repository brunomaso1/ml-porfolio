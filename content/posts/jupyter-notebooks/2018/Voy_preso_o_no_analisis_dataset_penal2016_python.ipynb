{
 "cells": [
  {
   "cell_type": "markdown",
   "metadata": {},
   "source": [
    "<br />\n",
    "<div id=\"toc_container\">\n",
    "<p class=\"toc_title\">Tabla de contenido</p>\n",
    "<ul class=\"toc_list\">\n",
    "\t<li><a href=\"#1-bullet\">1. Entendimiento del negocio</a>\n",
    "        <ul>\n",
    "            <li><a href=\"#1.1-bullet\">1.1. Contexto</a></li>\n",
    "            <li><a href=\"#1.2-bullet\">1.2. DataSet</a></li>\n",
    "            <li><a href=\"#1.3-bullet\">1.3. Objetivo</a></li>\n",
    "        </ul>\n",
    "    </li>\n",
    "    <li><a href=\"#2-bullet\">2. Entendimiento de los datos</a>\n",
    "        <ul>\n",
    "            <li><a href=\"#2.1-bullet\">2.1. Atributos</a></li>\n",
    "            <li><a href=\"#2.2-bullet\">2.2. Análisis de los atributos</a>\n",
    "                <ul>\n",
    "                    <li><a href=\"#2.2.1-bullet\">2.2.1. Importancia</a></li>\n",
    "                </ul>\n",
    "            </li>\n",
    "        </ul>\n",
    "    </li>\n",
    "\t<li><a href=\"#3-bullet\">3. Preparación de los datos</a>\n",
    "        <ul>\n",
    "            <li><a href=\"#3.1-bullet\">3.1. Importación de librerías</a></li>\n",
    "            <li><a href=\"#3.2-bullet\">3.2. Importación de los datos</a></li>\n",
    "            <li><a href=\"#3.3-bullet\">3.3. Visualización de los datos</a>\n",
    "                <ul>\n",
    "                    <li><a href=\"#3.3.1-bullet\">3.3.1. Pandas-profiling</a></li>\n",
    "                </ul>\n",
    "            </li>\n",
    "            <li><a href=\"#3.4-bullet\">3.4. Tratamiento de los datos</a>\n",
    "                <ul>\n",
    "                    <li><a href=\"#3.4.1-bullet\">3.4.1. Sanitizar los datos</a></li>\n",
    "                    <li><a href=\"#3.4.3-bullet\">3.4.2. Tratamiento de datos faltantes</a></li>\n",
    "                    <li><a href=\"#3.4.2-bullet\">3.4.3. Tratamiento de outliers</a></li>\n",
    "                    <li><a href=\"#3.4.4-bullet\">3.4.4. Correlación de atributos</a></li>\n",
    "                    <li><a href=\"#3.4.5-bullet\">3.4.5. Feature extraction</a></li>\n",
    "                    <li><a href=\"#3.4.6-bullet\">3.4.6. Transformaciones de los datos</a></li>\n",
    "                    <li><a href=\"#3.4.7-bullet\">3.4.7. Dimension reduction</a></li>                    \n",
    "                </ul>\n",
    "            </li>\n",
    "        </ul>\n",
    "    </li>\n",
    "\t<li><a href=\"#4-bullet\">4. Modelado</a>\n",
    "        <ul>\n",
    "            <li><a href=\"#4.1-bullet\">4.1. Preparación del modelado</a></li>\n",
    "            <li><a href=\"#4.2-bullet\">4.2. Entrenamiento de los modelos</a>\n",
    "                <ul>\n",
    "                    <li><a href=\"#4.2.1-bullet\">4.2.1. Linear Regression</a></li>\n",
    "                    <li><a href=\"#4.2.1-bullet\">4.2.2. Linear Regression, L1 Regularization</a></li>\n",
    "                </ul>\n",
    "            </li>\n",
    "            <li><a href=\"#4.3-bullet\">4.3. Comparación de modelos</a></li>\n",
    "            <li><a href=\"#4.4-bullet\">4.4. Feature selection</a></li>\n",
    "            <li><a href=\"#4.5-bullet\">4.5. Optimización</a></li>\n",
    "        </ul>\n",
    "    </li>\n",
    "    <li><a href=\"#5-bullet\">5. Evaluación</a></li>\n",
    "    <li><a href=\"#6-bullet\">6. Puesta en producción</a></li>\n",
    "</ul>\n",
    "</div>"
   ]
  },
  {
   "cell_type": "markdown",
   "metadata": {},
   "source": [
    "## 1. Entendimiento del negocio <a class=\"anchor\" id=\"1-bullet\"></a>\n",
    "---\n",
    "\n",
    "</center><small><a href=\"link\">https://catalogodatos.gub.uy/dataset/penal-montevideo-2016</a></small></center>\n",
    "\n",
    "<div style=\"text-align:center\"><img src=\"https://i.ytimg.com/vi/-zZcIeyHdto/hqdefault.jpg\" alt=\"drawing\" width=\"50%\" height=\"50%\"/></div><br/>\n",
    "\n",
    "Uruguay está en un clima político complicado. Con las elecciones del 2019 en la puerta, surge un tema que la opocición enfoca mucho sus armas para plantearle lucha al gobierno de turno. El tema de la **SEGURIDAD**. \n",
    "\n",
    "Este año se batió un nuevo record en Uruguay. Uno que no brinda orgullo: [Record de homicidios en cuatro meses](https://www.elpais.com.uy/informacion/policiales/record-homicidios-muertes-cuatro-meses.html). El tema es que no solamente batimos el record en homicidios, sino que también han aumentado las [rapiñas](https://www.elobservador.com.uy/nota/homicidios-aumentaron-66-4-y-rapinas-un-55-8-en-el-primer-semestre-de-2018-20188218280). Es más, el gobierno ya reconoce el [problema](https://www.elobservador.com.uy/nota/se-revelo-la-cifra-que-tanto-preocupa-a-bonomi-4-800-rapinas-mas-en-lo-que-va-de-2018-20186291360) y muchos sabemos que esto no es porque se realizan más denuncias gracias a la tecnología disponible.\n",
    "\n",
    "\n",
    "<div style=\"text-align:center\"><img src=\"{filename}/posts/post-img/Voy_preso_o_no_analisis_dataset_penal2016_python_1.jpg\" alt=\"drawing\" width=\"100%\" height=\"100%\"/></div><br/>\n",
    "\n",
    "¿Pero cual es el problema de fondo? ¿Es un tema económico o cultural?"
   ]
  },
  {
   "cell_type": "markdown",
   "metadata": {},
   "source": [
    "### 1.1. Contexto <a class=\"anchor\" id=\"1.1-bullet\"></a>\n",
    "\n",
    "El problema (o enfoque de algunos uruguayos) es que las leyes no son realmente fuertes con respecto a los crímenes. Cuando digo leyes, me refiero a las condenas por dichos crímenes. ¿Pero realmente es así?\n",
    "\n",
    "Uruguay tiene un [record histórico en presos](https://www.elpais.com.uy/informacion/uruguay-record-historico-presos.html). O sea, los crímenes están siendo identificados y los criminales están llendo presos. El tema no está ahí.\n",
    "\n",
    "¿Estará el tema en lo leve que son las leyes? Esto es lo que se analiza en este post a partir de los datos de los penales del año 2016.\n",
    "\n",
    "<div style=\"text-align:center\"><img src=\"Voy_preso_o_no_analisis_dataset_penal2016_python_2.gif\" alt=\"drawing\" width=\"100%\" height=\"100%\"/></div><br/"
   ]
  },
  {
   "cell_type": "markdown",
   "metadata": {},
   "source": [
    "### 1.2. DataSet <a class=\"anchor\" id=\"1.2-bullet\"></a>\n",
    "\n",
    "El conjunto se puede obtener del siguiente link: [Datos](https://catalogodatos.gub.uy/dataset/72a5f9be-591d-415d-9428-970336f5e50d/resource/7ae84c9c-d04e-4e16-ba94-5e90da5cdf5e/download/basepenal2016.csv)\n",
    "\n",
    "El dataset contiene información sobre procesos concluidos (por persona) en los Juzgados Letrados en lo Penal de Montevideo en el año 2016.\n",
    "\n",
    "Este dataset pertenece al gobierno uruguayo y en conjunto con AGESIC (Agencia de Gobierno electrónico y Sociedad de la Información y del Conocimiento) lo han publicado en su página de datos abiertos."
   ]
  },
  {
   "cell_type": "markdown",
   "metadata": {},
   "source": [
    "### 1.3. Objetivo <a class=\"anchor\" id=\"1.3-bullet\"></a>\n",
    "\n",
    "En este post tendremos varios objetivos:\n",
    "\n",
    "- Analizar el conjunto para ver las relaciones entre las variables y poder obtener alguna conclusión del comportamiento de las mismas.\n",
    "- Realizar un modelo de predicción que permita, dado un nuevo crimen, predecir si se irá preso o no."
   ]
  },
  {
   "cell_type": "markdown",
   "metadata": {},
   "source": [
    "## 2. Entendimiento de los datos <a class=\"anchor\" id=\"2-bullet\"></a>\n",
    "---\n",
    "\n",
    "Antes de comenzar con el análisis y modelado de la solución del problema, debemos entender que explican los atributos.\n",
    "En este punto se comprenden los atributos y se analiza su importancia para el problema y la solución."
   ]
  },
  {
   "cell_type": "markdown",
   "metadata": {},
   "source": [
    "### 2.1. Atributos <a class=\"anchor\" id=\"2.1-bullet\"></a>\n",
    "\n",
    "Según los [metadatos](https://catalogodatos.gub.uy/dataset/72a5f9be-591d-415d-9428-970336f5e50d/resource/25af959a-6a27-41c1-a762-6fbba24866a4/download/metadatapenal2016.json) del dataset, el conjunto cuenta con 29 atributos, incluyendo la variable objetivo.\n",
    "\n",
    "Los atributos y su descripción son:\n",
    "\n",
    "- ```id```: Identificación única del expediente. No se repite (Integer) $\\rightarrow$ *Tipo:* <span style=\"color:orange\">**NUMERIC** (\"-1: Sin datos\")</span>\n",
    "- ```turno```: Es la identificación del Turno del Juzgado Letrado de Penal (Integer) $\\rightarrow$ *Tipo:* <span style=\"color:orange\">**NUMERIC** (\"-1: Sin datos\")</span>\n",
    "- ```fecha```: Fecha de iniciado. Corresponde a la fecha del auto de procesamiento (Date) $\\rightarrow$ *Tipo:* <span style=\"color:orange\">**POLINOMIAL** (\"01/01/1900: Sin dato\"; \"08/11/2016\"; \"05/08/2016\"; ...)</span>\n",
    "- ```tipo_proc```: Tipo de procesamiento (Integer) $\\rightarrow$ *Tipo:* <span style=\"color:orange\">**POLINOMIAL** (\"-1: Sin datos\"; \"1: Con prisión\"; \"2: Sin prisión\"; \"3: No corresponde\")</span>\n",
    "- ```fsd```: Fecha de subida al despacho. Es la fecha en la que el expediente sube al despacho del juez para dictar la sentencia definitiva o interlocutoria que finaliza el proceso (Date) $\\rightarrow$ *Tipo:* <span style=\"color:orange\">**POLINOMIAL** (\"01/01/1900: Sin dato\"; \"08/11/2016\"; \"05/08/2016\"; ...)</span>\n",
    "- ```fecha_sent```: Fecha de la Sentencia. Es la fecha en la que el juez dictó la sentencia definitiva o interlocutoria que finalizó el proceso (Date) $\\rightarrow$ *Tipo:* <span style=\"color:orange\">**POLINOMIAL** (\"01/01/1900: Sin dato\"; \"08/11/2016\"; \"05/08/2016\"; ...)</span>\n",
    "- ```num_sent```: Número de la Sentencia. Es el número de la Sentencia Definitiva o Interlocutoria que da por concluído el proceso (Integer) $\\rightarrow$ *Tipo:* <span style=\"color:orange\">**NUMERIC** (\"-1: Sin datos\")</span>\n",
    "- ```modo```: Modo de conclusión (Integer) $\\rightarrow$ *Tipo:* <span style=\"color:orange\">**POLINOMIAL** (\"-1: Sin datos\"; \"1: Sentencia Definitiva\"; \"2: Sentencia Interlocutoria - Amnistía\", \"3: Sentencia Interlocutoria - Clausura definitiva\"; \"4: Sentencia Interlocutoria - Gracia\"; \"5: Sentencia Interlocutoria - Prescripción de la pena\"; \"6: Sentencia Interlocutoria - Prescripción del delito\"; \"7: Sentencia Interlocutoria - Revocación del auto de procesamiento\"; \"8: Sentencia Interlocutoria - Sobreseimiento\"; \"9: Sentencia Interlocutoria - Fallecimiento antes de la condena\"; \"10: Sentencia Interlocutoria - Art. 59, Ley 14412\"; \"11: Sentencia Interlocutoria - Remisión\")</span>\n",
    "- ```sexo```: Sexo del encausado (String) $\\rightarrow$ *Tipo:* <span style=\"color:orange\">**BINOMIAL** (\"-1: Sin dato\"; \"M\"; \"F\")</span>\n",
    "- ```edad```: Edad del encausado (Integer) $\\rightarrow$ *Tipo:* <span style=\"color:orange\">**NUMERIC** (\"-1: Sin datos\")</span>\n",
    "- ```ant```: Antecedentes judiciales (Integer) $\\rightarrow$ *Tipo:* <span style=\"color:orange\">**POLINOMIAL** (\"-1: Sin datos\"; \"1: Primario\"; \"2: Reincidente\"; \"3: No corresponde\")</span>\n",
    "- ```sit_esp```: Situación especial (Integer) $\\rightarrow$ *Tipo:* <span style=\"color:orange\">**POLINOMIAL** (\"-1: Sin datos\"; \"1: Cúmulo o unificación de sentencias\"; \"2: Ley de prensa u otros procesos por audiencia\"; \"3: Extradición (se refiere al expediente que tramita la extradición de un sujeto y no al exhorto o solicitud administrativa de extradición)\"; \"4: Autor ininputable mayor de edad\", \"5: Acción de amparo\"; \"6: No corresponde (cuando no corresponde a ninguno de los casos que fueron codificados anteriormente)\")</span>\n",
    "- ```tipo_del```: Tipo de delito (Integer) $\\rightarrow$ *Tipo:* <span style=\"color:orange\">**POLINOMIAL** (\"-1: Sin dato\"; \"1: Hurto\"; \"2: Rapiña\"; \"3: Delitos previstos en la Ley de estupefacientes\", \"4: Receptación\"; \"5: Lesiones personales\"; \"6: Homicidio\", \"7: Homicidio culpable\"; \"8: Lesiones graves\"; \"9: Estafa\"; \"10: Violencia privada\"; \"11: Apropiación indebida\"; \"12: Atentado violento al pudor\"; \"13: Desacato\"; \"14: Atentado\"; \"15: Ley de cheques\"; \"16: Falsificación o alteración de certificados\"; \"17: Violencia domóstica\"; \"18: Uso de documento falso público o privado\"; \"19: Otros\"; \"20: No corresponde\")</span>\n",
    "- ```tipo_del2```: Tipo de delito (Integer) $\\rightarrow$ *Tipo:* <span style=\"color:orange\">**POLINOMIAL** (\"-1: Sin dato\"; \"1: Hurto\"; \"2: Rapiña\"; \"3: Delitos previstos en la Ley de estupefacientes\", \"4: Receptación\"; \"5: Lesiones personales\"; \"6: Homicidio\", \"7: Homicidio culpable\"; \"8: Lesiones graves\"; \"9: Estafa\"; \"10: Violencia privada\"; \"11: Apropiación indebida\"; \"12: Atentado violento al pudor\"; \"13: Desacato\"; \"14: Atentado\"; \"15: Ley de cheques\"; \"16: Falsificación o alteración de certificados\"; \"17: Violencia domóstica\"; \"18: Uso de documento falso público o privado\"; \"19: Otros\"; \"20: No corresponde\")</span>\n",
    "- ```tipo_del3```: Tipo de delito (Integer) $\\rightarrow$ *Tipo:* <span style=\"color:orange\">**POLINOMIAL** (\"-1: Sin dato\"; \"1: Hurto\"; \"2: Rapiña\"; \"3: Delitos previstos en la Ley de estupefacientes\", \"4: Receptación\"; \"5: Lesiones personales\"; \"6: Homicidio\", \"7: Homicidio culpable\"; \"8: Lesiones graves\"; \"9: Estafa\"; \"10: Violencia privada\"; \"11: Apropiación indebida\"; \"12: Atentado violento al pudor\"; \"13: Desacato\"; \"14: Atentado\"; \"15: Ley de cheques\"; \"16: Falsificación o alteración de certificados\"; \"17: Violencia domóstica\"; \"18: Uso de documento falso público o privado\"; \"19: Otros\"; \"20: No corresponde\")</span>\n",
    "- ```otros_del```: Otro tipo de delito cometido (String) $\\rightarrow$ *Tipo:* <span style=\"color:orange\">**POLINOMIAL** (\"Sin dato\"; \"Texto\")</span>\n",
    "- ```otros2```: Otro tipo de delito cometido (String) $\\rightarrow$ *Tipo:* <span style=\"color:orange\">**POLINOMIAL** (\"Sin dato\"; \"Texto\")</span>\n",
    "- ```otros_del3```: Otro tipo de delito cometido (String) $\\rightarrow$ *Tipo:* <span style=\"color:orange\">**POLINOMIAL** (\"Sin dato\"; \"Texto\")</span>\n",
    "- ```Tent```: Tentativa (Integer) $\\rightarrow$ *Tipo:* <span style=\"color:orange\">**BINOMINAL** (\"-1: Sin dato\"; \"0: No\"; \"1: Si\")</span>\n",
    "- ```Tent_2```: Tentativa (Integer) $\\rightarrow$ *Tipo:* <span style=\"color:orange\">**BINOMINAL** (\"-1: Sin dato\"; \"0: No\"; \"1: Si\")</span>\n",
    "- ```Tent_3```: Tentativa (Integer) $\\rightarrow$ *Tipo:* <span style=\"color:orange\">**BINOMINAL** (\"-1: Sin dato\"; \"0: No\"; \"1: Si\")</span>\n",
    "- ```agrav```: Circunstancias agravantes (Integer) $\\rightarrow$ *Tipo:* <span style=\"color:orange\">**POLINOMIAL** (\"-1: Sin dato\"; \"1: Agravado\"; \"2: Especialmente agravado\"; \"3: Muy especialmente agravado\")</span>\n",
    "- ```agrav2```: Circunstancias agravantes (Integer) $\\rightarrow$ *Tipo:* <span style=\"color:orange\">**POLINOMIAL** (\"-1: Sin dato\"; \"1: Agravado\"; \"2: Especialmente agravado\"; \"3: Muy especialmente agravado\")</span>\n",
    "- ```agrav3```: Circunstancias agravantes (Integer) $\\rightarrow$ *Tipo:* <span style=\"color:orange\">**POLINOMIAL** (\"-1: Sin dato\"; \"1: Agravado\"; \"2: Especialmente agravado\"; \"3: Muy especialmente agravado\")</span>\n",
    "- ```multa```: Multa (Integer) $\\rightarrow$ *Tipo:* <span style=\"color:orange\">**NUMERIC** (\"Sin dato\"; \"Monto\")</span>\n",
    "- ```monto_a```: Sentencia en años (Integer) $\\rightarrow$ *Tipo:* <span style=\"color:orange\">**POLINOMIAL** (\"-1: Sin dato\"; \"Cantidad de años\")</span>\n",
    "- ```monto_m```: Sentencia en meses (Integer) $\\rightarrow$ *Tipo:* <span style=\"color:orange\">**POLINOMIAL** (\"-1: Sin dato\"; \"Cantidad de meses\")</span>\n",
    "- ```monto_d```: Sentencia en dias (Integer) $\\rightarrow$ *Tipo:* <span style=\"color:orange\">**POLINOMIAL** (\"-1: Sin dato\"; \"Cantidad de dias\")</span>\n",
    "- ```inf_adicional```: Información adicional (String) $\\rightarrow$ *Tipo:* <span style=\"color:orange\">**POLINOMIAL** (\"Sin dato\"; \"Texto\")</span>"
   ]
  },
  {
   "cell_type": "markdown",
   "metadata": {},
   "source": [
    "### 2.2. Análisis de los atributos <a class=\"anchor\" id=\"2.2-bullet\"></a>\n",
    "\n",
    "En esta sección se hace un análisis previo de los atributos."
   ]
  },
  {
   "cell_type": "markdown",
   "metadata": {},
   "source": [
    "#### 2.2.1. Importancia <a class=\"anchor\" id=\"2.2.1-bullet\"></a>\n",
    "\n",
    "La importancia de los atributos con respecto al contexto es muy importante, ya que atributos que no tienen importancia dado el contexto, pueden afectar la predicción final.\n",
    "\n",
    "- Importancia de cada atributo o indicar los que no son importantes."
   ]
  },
  {
   "cell_type": "markdown",
   "metadata": {},
   "source": [
    "## 3. Preparación de los datos <a class=\"anchor\" id=\"3-bullet\"></a>\n",
    "\n",
    "En esta sección se preparan los datos para ser utilizados por varios modelos. Se tiene en cuenta las restricciones de los modelos, por lo que se pueden preparar varios conjuntos para distintos modelos.\n",
    "\n",
    "- Como se enfocan estos problemas usualmente.\n",
    "- Tipos de algoritmos a utilizar.\n",
    "- Restricciones de los datos para dichos algoritmos.\n",
    "\n",
    "Ej, para la resgresión lineal:\n",
    "Requerimientos de los atributos para la regresión lineal:\n",
    "\n",
    "1. Asumir una relación lineal entre los datos.\n",
    "2. Remover el ruido.\n",
    "3. Remover atributos correlacionados.\n",
    "4. Distribución gaussiana.\n",
    "5. Normalizar entradas."
   ]
  },
  {
   "cell_type": "markdown",
   "metadata": {},
   "source": [
    "### 3.1. Importación de librerías <a class=\"anchor\" id=\"3.1-bullet\"></a>\n",
    "\n",
    "Las librerías a utilizar son las siguientes:\n",
    "\n",
    "- ```numpy``` $\\rightarrow$ NumPy es el paquete fundamental para la informática científica con Python (http://www.numpy.org/).\n",
    "- ```pandas``` $\\rightarrow$ Pandas provee herramientas para la importación y el fácil análisis de los datos (https://pandas.pydata.org/).\n",
    "- ```matplotlib``` $\\rightarrow$ Matplotlib permite graficar los datos (https://matplotlib.org/).\n",
    "- ```seaborn``` $\\rightarrow$ Seaborn permite una linda visualización estadística de los datos, en conjunción con matplotlib (https://seaborn.pydata.org/).\n",
    "- ```pandas_profiling``` $\\rightarrow$ Brinda un completo resumen de los datos (https://github.com/pandas-profiling/pandas-profiling)."
   ]
  },
  {
   "cell_type": "code",
   "execution_count": 20,
   "metadata": {},
   "outputs": [
    {
     "name": "stderr",
     "output_type": "stream",
     "text": [
      "c:\\programdata\\anaconda3\\envs\\ml-porfolio\\lib\\site-packages\\pandas_profiling\\plot.py:15: UserWarning: \n",
      "This call to matplotlib.use() has no effect because the backend has already\n",
      "been chosen; matplotlib.use() must be called *before* pylab, matplotlib.pyplot,\n",
      "or matplotlib.backends is imported for the first time.\n",
      "\n",
      "The backend was *originally* set to 'module://ipykernel.pylab.backend_inline' by the following code:\n",
      "  File \"c:\\programdata\\anaconda3\\envs\\ml-porfolio\\lib\\runpy.py\", line 193, in _run_module_as_main\n",
      "    \"__main__\", mod_spec)\n",
      "  File \"c:\\programdata\\anaconda3\\envs\\ml-porfolio\\lib\\runpy.py\", line 85, in _run_code\n",
      "    exec(code, run_globals)\n",
      "  File \"c:\\programdata\\anaconda3\\envs\\ml-porfolio\\lib\\site-packages\\ipykernel_launcher.py\", line 16, in <module>\n",
      "    app.launch_new_instance()\n",
      "  File \"c:\\programdata\\anaconda3\\envs\\ml-porfolio\\lib\\site-packages\\traitlets\\config\\application.py\", line 658, in launch_instance\n",
      "    app.start()\n",
      "  File \"c:\\programdata\\anaconda3\\envs\\ml-porfolio\\lib\\site-packages\\ipykernel\\kernelapp.py\", line 486, in start\n",
      "    self.io_loop.start()\n",
      "  File \"c:\\programdata\\anaconda3\\envs\\ml-porfolio\\lib\\site-packages\\tornado\\platform\\asyncio.py\", line 132, in start\n",
      "    self.asyncio_loop.run_forever()\n",
      "  File \"c:\\programdata\\anaconda3\\envs\\ml-porfolio\\lib\\asyncio\\base_events.py\", line 422, in run_forever\n",
      "    self._run_once()\n",
      "  File \"c:\\programdata\\anaconda3\\envs\\ml-porfolio\\lib\\asyncio\\base_events.py\", line 1434, in _run_once\n",
      "    handle._run()\n",
      "  File \"c:\\programdata\\anaconda3\\envs\\ml-porfolio\\lib\\asyncio\\events.py\", line 145, in _run\n",
      "    self._callback(*self._args)\n",
      "  File \"c:\\programdata\\anaconda3\\envs\\ml-porfolio\\lib\\site-packages\\tornado\\platform\\asyncio.py\", line 122, in _handle_events\n",
      "    handler_func(fileobj, events)\n",
      "  File \"c:\\programdata\\anaconda3\\envs\\ml-porfolio\\lib\\site-packages\\tornado\\stack_context.py\", line 300, in null_wrapper\n",
      "    return fn(*args, **kwargs)\n",
      "  File \"c:\\programdata\\anaconda3\\envs\\ml-porfolio\\lib\\site-packages\\zmq\\eventloop\\zmqstream.py\", line 450, in _handle_events\n",
      "    self._handle_recv()\n",
      "  File \"c:\\programdata\\anaconda3\\envs\\ml-porfolio\\lib\\site-packages\\zmq\\eventloop\\zmqstream.py\", line 480, in _handle_recv\n",
      "    self._run_callback(callback, msg)\n",
      "  File \"c:\\programdata\\anaconda3\\envs\\ml-porfolio\\lib\\site-packages\\zmq\\eventloop\\zmqstream.py\", line 432, in _run_callback\n",
      "    callback(*args, **kwargs)\n",
      "  File \"c:\\programdata\\anaconda3\\envs\\ml-porfolio\\lib\\site-packages\\tornado\\stack_context.py\", line 300, in null_wrapper\n",
      "    return fn(*args, **kwargs)\n",
      "  File \"c:\\programdata\\anaconda3\\envs\\ml-porfolio\\lib\\site-packages\\ipykernel\\kernelbase.py\", line 283, in dispatcher\n",
      "    return self.dispatch_shell(stream, msg)\n",
      "  File \"c:\\programdata\\anaconda3\\envs\\ml-porfolio\\lib\\site-packages\\ipykernel\\kernelbase.py\", line 233, in dispatch_shell\n",
      "    handler(stream, idents, msg)\n",
      "  File \"c:\\programdata\\anaconda3\\envs\\ml-porfolio\\lib\\site-packages\\ipykernel\\kernelbase.py\", line 399, in execute_request\n",
      "    user_expressions, allow_stdin)\n",
      "  File \"c:\\programdata\\anaconda3\\envs\\ml-porfolio\\lib\\site-packages\\ipykernel\\ipkernel.py\", line 208, in do_execute\n",
      "    res = shell.run_cell(code, store_history=store_history, silent=silent)\n",
      "  File \"c:\\programdata\\anaconda3\\envs\\ml-porfolio\\lib\\site-packages\\ipykernel\\zmqshell.py\", line 537, in run_cell\n",
      "    return super(ZMQInteractiveShell, self).run_cell(*args, **kwargs)\n",
      "  File \"c:\\programdata\\anaconda3\\envs\\ml-porfolio\\lib\\site-packages\\IPython\\core\\interactiveshell.py\", line 2662, in run_cell\n",
      "    raw_cell, store_history, silent, shell_futures)\n",
      "  File \"c:\\programdata\\anaconda3\\envs\\ml-porfolio\\lib\\site-packages\\IPython\\core\\interactiveshell.py\", line 2785, in _run_cell\n",
      "    interactivity=interactivity, compiler=compiler, result=result)\n",
      "  File \"c:\\programdata\\anaconda3\\envs\\ml-porfolio\\lib\\site-packages\\IPython\\core\\interactiveshell.py\", line 2901, in run_ast_nodes\n",
      "    if self.run_code(code, result):\n",
      "  File \"c:\\programdata\\anaconda3\\envs\\ml-porfolio\\lib\\site-packages\\IPython\\core\\interactiveshell.py\", line 2961, in run_code\n",
      "    exec(code_obj, self.user_global_ns, self.user_ns)\n",
      "  File \"<ipython-input-20-b994aea22841>\", line 6, in <module>\n",
      "    get_ipython().run_line_magic('matplotlib', 'inline')\n",
      "  File \"c:\\programdata\\anaconda3\\envs\\ml-porfolio\\lib\\site-packages\\IPython\\core\\interactiveshell.py\", line 2131, in run_line_magic\n",
      "    result = fn(*args,**kwargs)\n",
      "  File \"<decorator-gen-108>\", line 2, in matplotlib\n",
      "  File \"c:\\programdata\\anaconda3\\envs\\ml-porfolio\\lib\\site-packages\\IPython\\core\\magic.py\", line 187, in <lambda>\n",
      "    call = lambda f, *a, **k: f(*a, **k)\n",
      "  File \"c:\\programdata\\anaconda3\\envs\\ml-porfolio\\lib\\site-packages\\IPython\\core\\magics\\pylab.py\", line 99, in matplotlib\n",
      "    gui, backend = self.shell.enable_matplotlib(args.gui)\n",
      "  File \"c:\\programdata\\anaconda3\\envs\\ml-porfolio\\lib\\site-packages\\IPython\\core\\interactiveshell.py\", line 3049, in enable_matplotlib\n",
      "    pt.activate_matplotlib(backend)\n",
      "  File \"c:\\programdata\\anaconda3\\envs\\ml-porfolio\\lib\\site-packages\\IPython\\core\\pylabtools.py\", line 311, in activate_matplotlib\n",
      "    matplotlib.pyplot.switch_backend(backend)\n",
      "  File \"c:\\programdata\\anaconda3\\envs\\ml-porfolio\\lib\\site-packages\\matplotlib\\pyplot.py\", line 231, in switch_backend\n",
      "    matplotlib.use(newbackend, warn=False, force=True)\n",
      "  File \"c:\\programdata\\anaconda3\\envs\\ml-porfolio\\lib\\site-packages\\matplotlib\\__init__.py\", line 1422, in use\n",
      "    reload(sys.modules['matplotlib.backends'])\n",
      "  File \"c:\\programdata\\anaconda3\\envs\\ml-porfolio\\lib\\importlib\\__init__.py\", line 166, in reload\n",
      "    _bootstrap._exec(spec, module)\n",
      "  File \"c:\\programdata\\anaconda3\\envs\\ml-porfolio\\lib\\site-packages\\matplotlib\\backends\\__init__.py\", line 16, in <module>\n",
      "    line for line in traceback.format_stack()\n",
      "\n",
      "\n",
      "  matplotlib.use(BACKEND)\n"
     ]
    }
   ],
   "source": [
    "import numpy as np \n",
    "import pandas as pd \n",
    "\n",
    "import seaborn as sns\n",
    "from matplotlib import pyplot as plt\n",
    "%matplotlib inline\n",
    "sns.set_style(\"whitegrid\")\n",
    "\n",
    "import pandas_profiling\n",
    "\n",
    "import warnings\n",
    "warnings.filterwarnings('ignore')"
   ]
  },
  {
   "cell_type": "markdown",
   "metadata": {},
   "source": [
    "### 3.2. Importación de los datos <a class=\"anchor\" id=\"3.2-bullet\"></a>\n",
    "\n",
    "Para importar los datos utilizamos Pandas (```pd.read_csv()```), con los cual los cargamos en la estructura de datos **Dataframe** de Pandas. En este punto también se realiza los joins necesarios para obtener un conjunto con el que trabajar."
   ]
  },
  {
   "cell_type": "code",
   "execution_count": 21,
   "metadata": {},
   "outputs": [
    {
     "ename": "FileNotFoundError",
     "evalue": "File b'datasettraining.csv' does not exist",
     "output_type": "error",
     "traceback": [
      "\u001b[1;31m---------------------------------------------------------------------------\u001b[0m",
      "\u001b[1;31mFileNotFoundError\u001b[0m                         Traceback (most recent call last)",
      "\u001b[1;32m<ipython-input-21-7f790f5735e2>\u001b[0m in \u001b[0;36m<module>\u001b[1;34m()\u001b[0m\n\u001b[0;32m      1\u001b[0m \u001b[1;31m# Datos de entrenamiento.\u001b[0m\u001b[1;33m\u001b[0m\u001b[1;33m\u001b[0m\u001b[0m\n\u001b[1;32m----> 2\u001b[1;33m \u001b[0mtraining\u001b[0m \u001b[1;33m=\u001b[0m \u001b[0mpd\u001b[0m\u001b[1;33m.\u001b[0m\u001b[0mread_csv\u001b[0m\u001b[1;33m(\u001b[0m\u001b[1;34m\"datasettraining.csv\"\u001b[0m\u001b[1;33m)\u001b[0m\u001b[1;33m\u001b[0m\u001b[0m\n\u001b[0m\u001b[0;32m      3\u001b[0m \u001b[1;33m\u001b[0m\u001b[0m\n\u001b[0;32m      4\u001b[0m \u001b[1;31m# Datos para testing.\u001b[0m\u001b[1;33m\u001b[0m\u001b[1;33m\u001b[0m\u001b[0m\n\u001b[0;32m      5\u001b[0m \u001b[0mtesting\u001b[0m \u001b[1;33m=\u001b[0m \u001b[0mpd\u001b[0m\u001b[1;33m.\u001b[0m\u001b[0mread_csv\u001b[0m\u001b[1;33m(\u001b[0m\u001b[1;34m\"datasettesting.csv\"\u001b[0m\u001b[1;33m)\u001b[0m\u001b[1;33m\u001b[0m\u001b[0m\n",
      "\u001b[1;32mc:\\programdata\\anaconda3\\envs\\ml-porfolio\\lib\\site-packages\\pandas\\io\\parsers.py\u001b[0m in \u001b[0;36mparser_f\u001b[1;34m(filepath_or_buffer, sep, delimiter, header, names, index_col, usecols, squeeze, prefix, mangle_dupe_cols, dtype, engine, converters, true_values, false_values, skipinitialspace, skiprows, nrows, na_values, keep_default_na, na_filter, verbose, skip_blank_lines, parse_dates, infer_datetime_format, keep_date_col, date_parser, dayfirst, iterator, chunksize, compression, thousands, decimal, lineterminator, quotechar, quoting, escapechar, comment, encoding, dialect, tupleize_cols, error_bad_lines, warn_bad_lines, skipfooter, doublequote, delim_whitespace, low_memory, memory_map, float_precision)\u001b[0m\n\u001b[0;32m    676\u001b[0m                     skip_blank_lines=skip_blank_lines)\n\u001b[0;32m    677\u001b[0m \u001b[1;33m\u001b[0m\u001b[0m\n\u001b[1;32m--> 678\u001b[1;33m         \u001b[1;32mreturn\u001b[0m \u001b[0m_read\u001b[0m\u001b[1;33m(\u001b[0m\u001b[0mfilepath_or_buffer\u001b[0m\u001b[1;33m,\u001b[0m \u001b[0mkwds\u001b[0m\u001b[1;33m)\u001b[0m\u001b[1;33m\u001b[0m\u001b[0m\n\u001b[0m\u001b[0;32m    679\u001b[0m \u001b[1;33m\u001b[0m\u001b[0m\n\u001b[0;32m    680\u001b[0m     \u001b[0mparser_f\u001b[0m\u001b[1;33m.\u001b[0m\u001b[0m__name__\u001b[0m \u001b[1;33m=\u001b[0m \u001b[0mname\u001b[0m\u001b[1;33m\u001b[0m\u001b[0m\n",
      "\u001b[1;32mc:\\programdata\\anaconda3\\envs\\ml-porfolio\\lib\\site-packages\\pandas\\io\\parsers.py\u001b[0m in \u001b[0;36m_read\u001b[1;34m(filepath_or_buffer, kwds)\u001b[0m\n\u001b[0;32m    438\u001b[0m \u001b[1;33m\u001b[0m\u001b[0m\n\u001b[0;32m    439\u001b[0m     \u001b[1;31m# Create the parser.\u001b[0m\u001b[1;33m\u001b[0m\u001b[1;33m\u001b[0m\u001b[0m\n\u001b[1;32m--> 440\u001b[1;33m     \u001b[0mparser\u001b[0m \u001b[1;33m=\u001b[0m \u001b[0mTextFileReader\u001b[0m\u001b[1;33m(\u001b[0m\u001b[0mfilepath_or_buffer\u001b[0m\u001b[1;33m,\u001b[0m \u001b[1;33m**\u001b[0m\u001b[0mkwds\u001b[0m\u001b[1;33m)\u001b[0m\u001b[1;33m\u001b[0m\u001b[0m\n\u001b[0m\u001b[0;32m    441\u001b[0m \u001b[1;33m\u001b[0m\u001b[0m\n\u001b[0;32m    442\u001b[0m     \u001b[1;32mif\u001b[0m \u001b[0mchunksize\u001b[0m \u001b[1;32mor\u001b[0m \u001b[0miterator\u001b[0m\u001b[1;33m:\u001b[0m\u001b[1;33m\u001b[0m\u001b[0m\n",
      "\u001b[1;32mc:\\programdata\\anaconda3\\envs\\ml-porfolio\\lib\\site-packages\\pandas\\io\\parsers.py\u001b[0m in \u001b[0;36m__init__\u001b[1;34m(self, f, engine, **kwds)\u001b[0m\n\u001b[0;32m    785\u001b[0m             \u001b[0mself\u001b[0m\u001b[1;33m.\u001b[0m\u001b[0moptions\u001b[0m\u001b[1;33m[\u001b[0m\u001b[1;34m'has_index_names'\u001b[0m\u001b[1;33m]\u001b[0m \u001b[1;33m=\u001b[0m \u001b[0mkwds\u001b[0m\u001b[1;33m[\u001b[0m\u001b[1;34m'has_index_names'\u001b[0m\u001b[1;33m]\u001b[0m\u001b[1;33m\u001b[0m\u001b[0m\n\u001b[0;32m    786\u001b[0m \u001b[1;33m\u001b[0m\u001b[0m\n\u001b[1;32m--> 787\u001b[1;33m         \u001b[0mself\u001b[0m\u001b[1;33m.\u001b[0m\u001b[0m_make_engine\u001b[0m\u001b[1;33m(\u001b[0m\u001b[0mself\u001b[0m\u001b[1;33m.\u001b[0m\u001b[0mengine\u001b[0m\u001b[1;33m)\u001b[0m\u001b[1;33m\u001b[0m\u001b[0m\n\u001b[0m\u001b[0;32m    788\u001b[0m \u001b[1;33m\u001b[0m\u001b[0m\n\u001b[0;32m    789\u001b[0m     \u001b[1;32mdef\u001b[0m \u001b[0mclose\u001b[0m\u001b[1;33m(\u001b[0m\u001b[0mself\u001b[0m\u001b[1;33m)\u001b[0m\u001b[1;33m:\u001b[0m\u001b[1;33m\u001b[0m\u001b[0m\n",
      "\u001b[1;32mc:\\programdata\\anaconda3\\envs\\ml-porfolio\\lib\\site-packages\\pandas\\io\\parsers.py\u001b[0m in \u001b[0;36m_make_engine\u001b[1;34m(self, engine)\u001b[0m\n\u001b[0;32m   1012\u001b[0m     \u001b[1;32mdef\u001b[0m \u001b[0m_make_engine\u001b[0m\u001b[1;33m(\u001b[0m\u001b[0mself\u001b[0m\u001b[1;33m,\u001b[0m \u001b[0mengine\u001b[0m\u001b[1;33m=\u001b[0m\u001b[1;34m'c'\u001b[0m\u001b[1;33m)\u001b[0m\u001b[1;33m:\u001b[0m\u001b[1;33m\u001b[0m\u001b[0m\n\u001b[0;32m   1013\u001b[0m         \u001b[1;32mif\u001b[0m \u001b[0mengine\u001b[0m \u001b[1;33m==\u001b[0m \u001b[1;34m'c'\u001b[0m\u001b[1;33m:\u001b[0m\u001b[1;33m\u001b[0m\u001b[0m\n\u001b[1;32m-> 1014\u001b[1;33m             \u001b[0mself\u001b[0m\u001b[1;33m.\u001b[0m\u001b[0m_engine\u001b[0m \u001b[1;33m=\u001b[0m \u001b[0mCParserWrapper\u001b[0m\u001b[1;33m(\u001b[0m\u001b[0mself\u001b[0m\u001b[1;33m.\u001b[0m\u001b[0mf\u001b[0m\u001b[1;33m,\u001b[0m \u001b[1;33m**\u001b[0m\u001b[0mself\u001b[0m\u001b[1;33m.\u001b[0m\u001b[0moptions\u001b[0m\u001b[1;33m)\u001b[0m\u001b[1;33m\u001b[0m\u001b[0m\n\u001b[0m\u001b[0;32m   1015\u001b[0m         \u001b[1;32melse\u001b[0m\u001b[1;33m:\u001b[0m\u001b[1;33m\u001b[0m\u001b[0m\n\u001b[0;32m   1016\u001b[0m             \u001b[1;32mif\u001b[0m \u001b[0mengine\u001b[0m \u001b[1;33m==\u001b[0m \u001b[1;34m'python'\u001b[0m\u001b[1;33m:\u001b[0m\u001b[1;33m\u001b[0m\u001b[0m\n",
      "\u001b[1;32mc:\\programdata\\anaconda3\\envs\\ml-porfolio\\lib\\site-packages\\pandas\\io\\parsers.py\u001b[0m in \u001b[0;36m__init__\u001b[1;34m(self, src, **kwds)\u001b[0m\n\u001b[0;32m   1706\u001b[0m         \u001b[0mkwds\u001b[0m\u001b[1;33m[\u001b[0m\u001b[1;34m'usecols'\u001b[0m\u001b[1;33m]\u001b[0m \u001b[1;33m=\u001b[0m \u001b[0mself\u001b[0m\u001b[1;33m.\u001b[0m\u001b[0musecols\u001b[0m\u001b[1;33m\u001b[0m\u001b[0m\n\u001b[0;32m   1707\u001b[0m \u001b[1;33m\u001b[0m\u001b[0m\n\u001b[1;32m-> 1708\u001b[1;33m         \u001b[0mself\u001b[0m\u001b[1;33m.\u001b[0m\u001b[0m_reader\u001b[0m \u001b[1;33m=\u001b[0m \u001b[0mparsers\u001b[0m\u001b[1;33m.\u001b[0m\u001b[0mTextReader\u001b[0m\u001b[1;33m(\u001b[0m\u001b[0msrc\u001b[0m\u001b[1;33m,\u001b[0m \u001b[1;33m**\u001b[0m\u001b[0mkwds\u001b[0m\u001b[1;33m)\u001b[0m\u001b[1;33m\u001b[0m\u001b[0m\n\u001b[0m\u001b[0;32m   1709\u001b[0m \u001b[1;33m\u001b[0m\u001b[0m\n\u001b[0;32m   1710\u001b[0m         \u001b[0mpassed_names\u001b[0m \u001b[1;33m=\u001b[0m \u001b[0mself\u001b[0m\u001b[1;33m.\u001b[0m\u001b[0mnames\u001b[0m \u001b[1;32mis\u001b[0m \u001b[1;32mNone\u001b[0m\u001b[1;33m\u001b[0m\u001b[0m\n",
      "\u001b[1;32mpandas\\_libs\\parsers.pyx\u001b[0m in \u001b[0;36mpandas._libs.parsers.TextReader.__cinit__\u001b[1;34m()\u001b[0m\n",
      "\u001b[1;32mpandas\\_libs\\parsers.pyx\u001b[0m in \u001b[0;36mpandas._libs.parsers.TextReader._setup_parser_source\u001b[1;34m()\u001b[0m\n",
      "\u001b[1;31mFileNotFoundError\u001b[0m: File b'datasettraining.csv' does not exist"
     ]
    }
   ],
   "source": [
    "# Datos de entrenamiento.\n",
    "training = pd.read_csv(\"datasettraining.csv\")\n",
    "\n",
    "# Datos para testing.\n",
    "testing = pd.read_csv(\"datasettesting.csv\")"
   ]
  },
  {
   "cell_type": "code",
   "execution_count": null,
   "metadata": {},
   "outputs": [],
   "source": [
    "# Obtenemos el Id de los datos.\n",
    "testID = testing['Id']\n",
    "\n",
    "# Creamos un conjunto data que tiene ambos conjuntos, para así realizar las transformaciones a ambos también.\n",
    "data = pd.concat([training.drop('SalePrice', axis=1), testing], keys=['train', 'test'])\n",
    "\n",
    "# Eliminamos el índice.\n",
    "data.drop(['Id'], axis=1, inplace=True)"
   ]
  },
  {
   "cell_type": "markdown",
   "metadata": {},
   "source": [
    "### 3.3. Visualización de los datos <a class=\"anchor\" id=\"3.3-bullet\"></a>\n",
    "\n",
    "Para visualizar los datos podemos utilizar varias de las funciones de Pandas, como lo son:\n",
    "\n",
    "- ```pd.dataframe.head()```\n",
    "- ```pd.dataframe.sample(5)```\n",
    "- ```pd.dataframe.keys()```"
   ]
  },
  {
   "cell_type": "code",
   "execution_count": null,
   "metadata": {},
   "outputs": [],
   "source": [
    "# Ver los primeros 5 datos.\n",
    "data.head()"
   ]
  },
  {
   "cell_type": "code",
   "execution_count": null,
   "metadata": {},
   "outputs": [],
   "source": [
    "# Ver una muestra aleatoria de 5.\n",
    "data.sample(5)"
   ]
  },
  {
   "cell_type": "code",
   "execution_count": null,
   "metadata": {},
   "outputs": [],
   "source": [
    "# Ver los atributos.\n",
    "data.keys()"
   ]
  },
  {
   "cell_type": "markdown",
   "metadata": {},
   "source": [
    "Podemos ver información sobre el conjunto utilizando ```pd.dataframe.info()```"
   ]
  },
  {
   "cell_type": "code",
   "execution_count": null,
   "metadata": {},
   "outputs": [],
   "source": [
    "# Todos los datos.\n",
    "data.info()"
   ]
  },
  {
   "cell_type": "code",
   "execution_count": null,
   "metadata": {},
   "outputs": [],
   "source": [
    "# Conjunto de testing.\n",
    "testing.info()"
   ]
  },
  {
   "cell_type": "markdown",
   "metadata": {},
   "source": [
    "Esta función nos muestra los tipos de datos (enteros, reales, nominales, etc.) y también la cantidad de elementos que tiene el conjunto, así como también cuantos elementos tiene cada atributo.\n",
    "\n",
    "Como resultado podemos ver que se tienen:\n",
    "\n",
    "- Enteros $\\rightarrow$ 35\n",
    "- Reales $\\rightarrow$ 3\n",
    "- Nominales $\\rightarrow$ 43"
   ]
  },
  {
   "cell_type": "markdown",
   "metadata": {},
   "source": [
    "Podemos visualizar las estadísticas de los datos con la funcionalidad ```pd.dataframe.describe()``` de Pandas."
   ]
  },
  {
   "cell_type": "code",
   "execution_count": null,
   "metadata": {},
   "outputs": [],
   "source": [
    "# Ver estadísticas simples de los datos.\n",
    "data.describe()"
   ]
  },
  {
   "cell_type": "markdown",
   "metadata": {},
   "source": [
    "#### 3.3.1. Pandas-profiling <a class=\"anchor\" id=\"3.3.1-bullet\"></a>"
   ]
  },
  {
   "cell_type": "code",
   "execution_count": null,
   "metadata": {},
   "outputs": [],
   "source": [
    "# Generar resumen y mostrar.\n",
    "pandas_profiling.ProfileReport(training)"
   ]
  },
  {
   "cell_type": "markdown",
   "metadata": {},
   "source": [
    "### 3.4. Tratamiento de los datos <a class=\"anchor\" id=\"3.4-bullet\"></a>\n",
    "\n",
    "En este punto se realizan las transformaciones de los datos que se adecuan a los modelos a utilizar."
   ]
  },
  {
   "cell_type": "markdown",
   "metadata": {},
   "source": [
    "#### 3.4.1. Sanitizar los datos <a class=\"anchor\" id=\"3.4.1-bullet\"></a>\n",
    "\n",
    "La sanitización de los datos se utiliza ya que pueden haber instancias que estén mal, en relación al tipo de dato. Este análisis es más a nivel de negocio que de dato, ya que el negocio implica reglas que los datos deben cumplir."
   ]
  },
  {
   "cell_type": "markdown",
   "metadata": {},
   "source": [
    "#### 3.4.2. Tratamiento datos faltantes <a class=\"anchor\" id=\"3.4.2-bullet\"></a>\n",
    "\n",
    "Los datos faltantes son inadmitibles para muchos modelos. El tratamiento de los datos faltantes implica imputar un valor, eliminar dichos datos o eliminar el atributo."
   ]
  },
  {
   "cell_type": "markdown",
   "metadata": {},
   "source": [
    "#### 3.4.3. Tratamiento de outliers <a class=\"anchor\" id=\"3.4.3-bullet\"></a>\n",
    "\n",
    "Hay muchos modelos en los cuales los outliers reducen la performance o inducen un sesgo indeseado. Por eso, se debe detectar y tratar los outliers para evitar este tipo de problemas."
   ]
  },
  {
   "cell_type": "markdown",
   "metadata": {},
   "source": [
    "#### 3.4.4. Correlación de atributos <a class=\"anchor\" id=\"3.4.4-bullet\"></a>\n",
    "\n",
    "Hay muchos (como los modelos lineales) que la correlación de los atributos influye fuertemente en los modelos. Es por esto, que muchas veces se debe chequear la correlación de los atributos para así eliminar los que están altamente correlacionados."
   ]
  },
  {
   "cell_type": "markdown",
   "metadata": {},
   "source": [
    "#### 3.4.5. Feature extraction <a class=\"anchor\" id=\"3.4.5-bullet\"></a>\n",
    "\n",
    "Muchas veces se puede \"diseñar\" un atributo que es combinación de otros atributos (lineal o no lineal) para así obtener más información. Tal vez, este atrubto generado es un mejor predictor y se mejora la solución."
   ]
  },
  {
   "cell_type": "markdown",
   "metadata": {},
   "source": [
    "#### 3.4.6. Transofrmaciones de los datos <a class=\"anchor\" id=\"3.4.6-bullet\"></a>\n",
    "\n",
    "En este punto se realizan las transofrmaciones necesarias de los datos. Las transformaciones incluyen desde transformaciones para reducir el sesgo o ajustar distribuciones de los datos hasta transformar los datos a valores numericos o a valores categóricos. También en este punto se incluye la estandarización y normalización si se debe hacer."
   ]
  },
  {
   "cell_type": "markdown",
   "metadata": {},
   "source": [
    "#### 3.4.7. Dimension reduction <a class=\"anchor\" id=\"3.4.7-bullet\"></a>\n",
    "\n",
    "Si las dimensiones son muy grantes, podemos aplicar técnicas que reduzcan la dimensionalidad de los atributos."
   ]
  },
  {
   "cell_type": "markdown",
   "metadata": {},
   "source": [
    "## 4. Modelado <a class=\"anchor\" id=\"4-bullet\"></a>\n",
    "---\n",
    "\n",
    "En esta sección probamos varios modelos de machine learning. Utilizamos la librería **sklearn**.\n",
    "\n",
    "Utilizaremos los siguientes modelos:\n",
    "- ```sklearn.linear_model.LinearRegression``` $\\Rightarrow$ http://scikit-learn.org/stable/modules/generated/sklearn.linear_model.LinearRegression.html\n",
    "- ```sklearn.linear_model.LassoCV``` $\\Rightarrow$ http://scikit-learn.org/stable/modules/generated/sklearn.linear_model.LassoCV.html"
   ]
  },
  {
   "cell_type": "code",
   "execution_count": null,
   "metadata": {},
   "outputs": [],
   "source": [
    "# Modelos a utilizar:\n",
    "from sklearn.linear_model import LinearRegression\n",
    "from sklearn.linear_model import LassoCV"
   ]
  },
  {
   "cell_type": "markdown",
   "metadata": {},
   "source": [
    "Y para chequear la performance de nuestros modelos utilizamos:\n",
    "* ```sklearn.metrics.make_scorer``` $\\Rightarrow$ http://scikit-learn.org/stable/modules/generated/sklearn.metrics.make_scorer.html\n",
    "* ```sklearn.metrics.accuracy_score``` $\\Rightarrow$ http://scikit-learn.org/stable/modules/generated/sklearn.metrics.accuracy_score.html\n",
    "* ```sklearn.model_selection.cross_val_score``` $\\Rightarrow$ http://scikit-learn.org/stable/modules/generated/sklearn.model_selection.cross_val_score.html"
   ]
  },
  {
   "cell_type": "code",
   "execution_count": null,
   "metadata": {},
   "outputs": [],
   "source": [
    "from sklearn.metrics import make_scorer, accuracy_score\n",
    "from sklearn.model_selection import cross_val_score"
   ]
  },
  {
   "cell_type": "markdown",
   "metadata": {},
   "source": [
    "Utilizaremos ```sklearn.model_selection.GridSearchCV``` (http://scikit-learn.org/stable/modules/generated/sklearn.model_selection.GridSearchCV.html) para la optimización del modelo basado en fuerza bruta o ```sklearn-deap.evolutionary_search.EvolutionaryAlgorithmSearchCV``` (https://github.com/rsteca/sklearn-deap) para la optimización del modelo basado en algoritmos evolutivos."
   ]
  },
  {
   "cell_type": "code",
   "execution_count": null,
   "metadata": {},
   "outputs": [],
   "source": [
    "from sklearn.model_selection import GridSearchCV\n",
    "from evolutionary_search import EvolutionaryAlgorithmSearchCV"
   ]
  },
  {
   "cell_type": "markdown",
   "metadata": {},
   "source": [
    "Utilizaremos ```sklearn.feature_selection.SelectFromModel``` (http://scikit-learn.org/stable/modules/generated/sklearn.feature_selection.SelectFromModel.html#sklearn.feature_selection.SelectFromModel) para la optimización de los parámetros."
   ]
  },
  {
   "cell_type": "code",
   "execution_count": null,
   "metadata": {},
   "outputs": [],
   "source": [
    "from sklearn.feature_selection import SelectFromModel"
   ]
  },
  {
   "cell_type": "markdown",
   "metadata": {},
   "source": [
    "### 4.1. Preparación del modelado <a class=\"anchor\" id=\"4.1-bullet\"></a>\n",
    "\n",
    "Los conjuntos a utilizar en el modelado son:"
   ]
  },
  {
   "cell_type": "code",
   "execution_count": null,
   "metadata": {},
   "outputs": [],
   "source": [
    "print('X_test:', len(X_test))\n",
    "print('X_train:', len(X_train))\n",
    "print('y_train:', len(y_train))"
   ]
  },
  {
   "cell_type": "markdown",
   "metadata": {},
   "source": [
    "### 4.2. Entrenamiento de los modelos <a class=\"anchor\" id=\"4.2-bullet\"></a>\n",
    "\n",
    "En esta sección se entrenan los modelos especificados anteriormente para ver cuál es el que realiza la mejor predicción."
   ]
  },
  {
   "cell_type": "markdown",
   "metadata": {},
   "source": [
    "#### 4.2.1. Linear Regression <a class=\"anchor\" id=\"4.2.1-bullet\"></a> "
   ]
  },
  {
   "cell_type": "code",
   "execution_count": null,
   "metadata": {},
   "outputs": [],
   "source": [
    "# Cargamos el modelo.\n",
    "linreg_clf = LinearRegression()\n",
    "\n",
    "# Entrenamos el modelo.\n",
    "linreg_clf.fit(X_train, y_train)\n",
    "\n",
    "# Validación cruzada.\n",
    "acc_linreg = cross_val_score(linreg_clf, X_train, y_train, cv=10).mean()\n",
    "print(acc_linreg)"
   ]
  },
  {
   "cell_type": "markdown",
   "metadata": {},
   "source": [
    "#### 4.2.2. Linear Regression, L1 Regularisation <a class=\"anchor\" id=\"4.2.2-bullet\"></a> "
   ]
  },
  {
   "cell_type": "code",
   "execution_count": null,
   "metadata": {},
   "outputs": [],
   "source": [
    "# Cargamos el modelo.\n",
    "linl1_clf = LassoCV()\n",
    "\n",
    "# Entrenamos el modelo.\n",
    "linl1_clf.fit(X_train, y_train)\n",
    "\n",
    "# Validación cruzada.\n",
    "acc_linl1 = cross_val_score(linl1_clf, X_train, y_train, cv=10).mean()\n",
    "print(acc_linl1)"
   ]
  },
  {
   "cell_type": "markdown",
   "metadata": {},
   "source": [
    "### 4.3. Comparación de modelos <a class=\"anchor\" id=\"4.3-bullet\"></a>\n",
    "\n",
    "Una vez que tenemos las precisiones de los modelos, podemos comparar las performance de los modelos."
   ]
  },
  {
   "cell_type": "code",
   "execution_count": null,
   "metadata": {},
   "outputs": [],
   "source": [
    "# Creamos un dataframe para mostrar los datos.\n",
    "model_performance = pd.DataFrame({\n",
    "    \"Model\": [\"Linear Regression\", \"Linear Regression L1\"],\n",
    "    \"Accuracy\": [acc_linreg, acc_linl1]\n",
    "})\n",
    "\n",
    "# Ordenamos de mayor a menor.\n",
    "model_performance.sort_values(by=\"Accuracy\", ascending=False)"
   ]
  },
  {
   "cell_type": "markdown",
   "metadata": {},
   "source": [
    "### 4.4. Feature selection <a class=\"anchor\" id=\"4.4-bullet\"></a>\n",
    "\n",
    "Una vez que tenemos el modelo que nos de la mejor predición, realizamos la selección de atributos utilizando algoritmos evolutivos para observar si se mejora en la predicción o no. En si, esto se debería realizar para cada algoritmo, y luego compararlos, pero consume mucho tiempo este tipo de procesos."
   ]
  },
  {
   "cell_type": "markdown",
   "metadata": {},
   "source": [
    "### 4.5. Optimización <a class=\"anchor\" id=\"4.5-bullet\"></a>\n",
    "\n",
    "En esta sección se optimiza el modelo para utilizarlo en la puesta a producción."
   ]
  },
  {
   "cell_type": "markdown",
   "metadata": {},
   "source": [
    "## 5. Evaluación <a class=\"anchor\" id=\"5-bullet\"></a>\n",
    "---"
   ]
  },
  {
   "cell_type": "markdown",
   "metadata": {},
   "source": [
    "## 6. Puesta en producción <a class=\"anchor\" id=\"6-bullet\"></a>\n",
    "---"
   ]
  }
 ],
 "metadata": {
  "kernelspec": {
   "display_name": "Python 3",
   "language": "python",
   "name": "python3"
  },
  "language_info": {
   "codemirror_mode": {
    "name": "ipython",
    "version": 3
   },
   "file_extension": ".py",
   "mimetype": "text/x-python",
   "name": "python",
   "nbconvert_exporter": "python",
   "pygments_lexer": "ipython3",
   "version": "3.6.6"
  }
 },
 "nbformat": 4,
 "nbformat_minor": 2
}
